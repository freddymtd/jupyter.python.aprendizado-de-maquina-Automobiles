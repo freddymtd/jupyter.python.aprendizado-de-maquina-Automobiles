{
 "cells": [
  {
   "cell_type": "markdown",
   "metadata": {},
   "source": [
    "# NAC3 - Aprendizado de maquina\n",
    "\n",
    "Nesta nac vamos desenvolver um modelo preditivo do valor do carro.\n",
    "\n",
    "\n",
    "Dica: Siga todas as instruções, completando e construindo os algoritmos necessários.\n",
    "\n",
    "Nas celulas **Seu Código aqui...** significa que é necessário realizar a implementação de algum código. Utilize quantos blocos julgar necessário para criar o código.\n",
    "\n",
    "Nas celulas **Responda** significa que é nessário uma resposta clara e objetiva (pode ser por texto, gráfico, imagem...) para a pergunta.\n",
    "\n",
    "\n",
    "## Informações do grupo\n",
    "\n",
    "Este projeto poderá ser feito por grupos de `até 2 alunos`.\n",
    "\n",
    "| Nome dos Integrantes     | RM             | Turma   |\n",
    "| :----------------------- | :------------- | :-----: |\n",
    "| Freddy Ramos Zenteno     | RM             |  81590  |\n",
    "| Vitor Kazuhiro Yakushiji | RM             |  80572  |\n",
    "\n",
    "\n",
    "## Data de entrega final\n",
    "\n",
    "Será considerado para avaliação e correção o ultimo commit do `**dia 16/09/2021**`\n",
    "\n",
    "Responda o `Google forms` :   [LINK FORMULARIO](https://forms.gle/2iivfbMVToXwe9Wc6).\n",
    "\n",
    "\n",
    "## Rubrica \n",
    "\n",
    "Os critérios de avaliação do projeto será conforme a rubrica.\n",
    "\n",
    "\n",
    "- R1: Exploração de Dados (Até 1 ponto)\n",
    "- R2: Preparação de Dados (Até 2 ponto)\n",
    "- R3: Desenvolvimento do Modelo (Até 2 ponto)\n",
    "- R4: Treinamento e Teste do Modelo (Até 1 ponto)\n",
    "- R5: Validação e Otimização do Modelo (Até 2 ponto)\n",
    "- R6: Conclusões Finais (Até 2 ponto)\n",
    "\n",
    "Nota_final = R1 + R2 + R3 + R4 + R5 + R6\n",
    "\n",
    "## Previsão do valor do carro\n"
   ]
  },
  {
   "cell_type": "markdown",
   "metadata": {},
   "source": [
    "## 1. Exploração de Dados"
   ]
  },
  {
   "cell_type": "markdown",
   "metadata": {},
   "source": [
    "Os dados que serão utilizados extraídos do Kaggle deste [dataset](https://www.kaggle.com/nisargpatel/automobiles/data).\n",
    "\n",
    "Carregue o dataset \"Automobile.csv\" e faça uma inspeção nas 15 primeiras linhas para identificação básica dos atributos."
   ]
  },
  {
   "cell_type": "code",
   "execution_count": 1,
   "metadata": {},
   "outputs": [],
   "source": [
    "import seaborn as sns\n",
    "import matplotlib.pyplot as plt\n",
    "import pandas as pd\n",
    "import numpy as np\n",
    "\n",
    "%matplotlib inline"
   ]
  },
  {
   "cell_type": "code",
   "execution_count": 2,
   "metadata": {},
   "outputs": [
    {
     "data": {
      "text/html": [
       "<div>\n",
       "<style scoped>\n",
       "    .dataframe tbody tr th:only-of-type {\n",
       "        vertical-align: middle;\n",
       "    }\n",
       "\n",
       "    .dataframe tbody tr th {\n",
       "        vertical-align: top;\n",
       "    }\n",
       "\n",
       "    .dataframe thead th {\n",
       "        text-align: right;\n",
       "    }\n",
       "</style>\n",
       "<table border=\"1\" class=\"dataframe\">\n",
       "  <thead>\n",
       "    <tr style=\"text-align: right;\">\n",
       "      <th></th>\n",
       "      <th>symboling</th>\n",
       "      <th>normalized_losses</th>\n",
       "      <th>make</th>\n",
       "      <th>fuel_type</th>\n",
       "      <th>aspiration</th>\n",
       "      <th>number_of_doors</th>\n",
       "      <th>body_style</th>\n",
       "      <th>drive_wheels</th>\n",
       "      <th>engine_location</th>\n",
       "      <th>wheel_base</th>\n",
       "      <th>...</th>\n",
       "      <th>engine_size</th>\n",
       "      <th>fuel_system</th>\n",
       "      <th>bore</th>\n",
       "      <th>stroke</th>\n",
       "      <th>compression_ratio</th>\n",
       "      <th>horsepower</th>\n",
       "      <th>peak_rpm</th>\n",
       "      <th>city_mpg</th>\n",
       "      <th>highway_mpg</th>\n",
       "      <th>price</th>\n",
       "    </tr>\n",
       "  </thead>\n",
       "  <tbody>\n",
       "    <tr>\n",
       "      <th>0</th>\n",
       "      <td>3</td>\n",
       "      <td>168</td>\n",
       "      <td>alfa-romero</td>\n",
       "      <td>gas</td>\n",
       "      <td>std</td>\n",
       "      <td>two</td>\n",
       "      <td>convertible</td>\n",
       "      <td>rwd</td>\n",
       "      <td>front</td>\n",
       "      <td>88.6</td>\n",
       "      <td>...</td>\n",
       "      <td>130</td>\n",
       "      <td>mpfi</td>\n",
       "      <td>3.47</td>\n",
       "      <td>2.68</td>\n",
       "      <td>9.0</td>\n",
       "      <td>111</td>\n",
       "      <td>5000</td>\n",
       "      <td>21</td>\n",
       "      <td>27</td>\n",
       "      <td>13495</td>\n",
       "    </tr>\n",
       "    <tr>\n",
       "      <th>1</th>\n",
       "      <td>3</td>\n",
       "      <td>168</td>\n",
       "      <td>alfa-romero</td>\n",
       "      <td>gas</td>\n",
       "      <td>std</td>\n",
       "      <td>two</td>\n",
       "      <td>convertible</td>\n",
       "      <td>rwd</td>\n",
       "      <td>front</td>\n",
       "      <td>88.6</td>\n",
       "      <td>...</td>\n",
       "      <td>130</td>\n",
       "      <td>mpfi</td>\n",
       "      <td>3.47</td>\n",
       "      <td>2.68</td>\n",
       "      <td>9.0</td>\n",
       "      <td>111</td>\n",
       "      <td>5000</td>\n",
       "      <td>21</td>\n",
       "      <td>27</td>\n",
       "      <td>16500</td>\n",
       "    </tr>\n",
       "    <tr>\n",
       "      <th>2</th>\n",
       "      <td>1</td>\n",
       "      <td>168</td>\n",
       "      <td>alfa-romero</td>\n",
       "      <td>gas</td>\n",
       "      <td>std</td>\n",
       "      <td>two</td>\n",
       "      <td>hatchback</td>\n",
       "      <td>rwd</td>\n",
       "      <td>front</td>\n",
       "      <td>94.5</td>\n",
       "      <td>...</td>\n",
       "      <td>152</td>\n",
       "      <td>mpfi</td>\n",
       "      <td>2.68</td>\n",
       "      <td>3.47</td>\n",
       "      <td>9.0</td>\n",
       "      <td>154</td>\n",
       "      <td>5000</td>\n",
       "      <td>19</td>\n",
       "      <td>26</td>\n",
       "      <td>16500</td>\n",
       "    </tr>\n",
       "    <tr>\n",
       "      <th>3</th>\n",
       "      <td>2</td>\n",
       "      <td>164</td>\n",
       "      <td>audi</td>\n",
       "      <td>gas</td>\n",
       "      <td>std</td>\n",
       "      <td>four</td>\n",
       "      <td>sedan</td>\n",
       "      <td>fwd</td>\n",
       "      <td>front</td>\n",
       "      <td>99.8</td>\n",
       "      <td>...</td>\n",
       "      <td>109</td>\n",
       "      <td>mpfi</td>\n",
       "      <td>3.19</td>\n",
       "      <td>3.40</td>\n",
       "      <td>10.0</td>\n",
       "      <td>102</td>\n",
       "      <td>5500</td>\n",
       "      <td>24</td>\n",
       "      <td>30</td>\n",
       "      <td>13950</td>\n",
       "    </tr>\n",
       "    <tr>\n",
       "      <th>4</th>\n",
       "      <td>2</td>\n",
       "      <td>164</td>\n",
       "      <td>audi</td>\n",
       "      <td>gas</td>\n",
       "      <td>std</td>\n",
       "      <td>four</td>\n",
       "      <td>sedan</td>\n",
       "      <td>4wd</td>\n",
       "      <td>front</td>\n",
       "      <td>99.4</td>\n",
       "      <td>...</td>\n",
       "      <td>136</td>\n",
       "      <td>mpfi</td>\n",
       "      <td>3.19</td>\n",
       "      <td>3.40</td>\n",
       "      <td>8.0</td>\n",
       "      <td>115</td>\n",
       "      <td>5500</td>\n",
       "      <td>18</td>\n",
       "      <td>22</td>\n",
       "      <td>17450</td>\n",
       "    </tr>\n",
       "    <tr>\n",
       "      <th>5</th>\n",
       "      <td>2</td>\n",
       "      <td>161</td>\n",
       "      <td>audi</td>\n",
       "      <td>gas</td>\n",
       "      <td>std</td>\n",
       "      <td>two</td>\n",
       "      <td>sedan</td>\n",
       "      <td>fwd</td>\n",
       "      <td>front</td>\n",
       "      <td>99.8</td>\n",
       "      <td>...</td>\n",
       "      <td>136</td>\n",
       "      <td>mpfi</td>\n",
       "      <td>3.19</td>\n",
       "      <td>3.40</td>\n",
       "      <td>8.5</td>\n",
       "      <td>110</td>\n",
       "      <td>5500</td>\n",
       "      <td>19</td>\n",
       "      <td>25</td>\n",
       "      <td>15250</td>\n",
       "    </tr>\n",
       "    <tr>\n",
       "      <th>6</th>\n",
       "      <td>1</td>\n",
       "      <td>158</td>\n",
       "      <td>audi</td>\n",
       "      <td>gas</td>\n",
       "      <td>std</td>\n",
       "      <td>four</td>\n",
       "      <td>sedan</td>\n",
       "      <td>fwd</td>\n",
       "      <td>front</td>\n",
       "      <td>105.8</td>\n",
       "      <td>...</td>\n",
       "      <td>136</td>\n",
       "      <td>mpfi</td>\n",
       "      <td>3.19</td>\n",
       "      <td>3.40</td>\n",
       "      <td>8.5</td>\n",
       "      <td>110</td>\n",
       "      <td>5500</td>\n",
       "      <td>19</td>\n",
       "      <td>25</td>\n",
       "      <td>17710</td>\n",
       "    </tr>\n",
       "    <tr>\n",
       "      <th>7</th>\n",
       "      <td>1</td>\n",
       "      <td>168</td>\n",
       "      <td>audi</td>\n",
       "      <td>gas</td>\n",
       "      <td>std</td>\n",
       "      <td>four</td>\n",
       "      <td>wagon</td>\n",
       "      <td>fwd</td>\n",
       "      <td>front</td>\n",
       "      <td>105.8</td>\n",
       "      <td>...</td>\n",
       "      <td>136</td>\n",
       "      <td>mpfi</td>\n",
       "      <td>3.19</td>\n",
       "      <td>3.40</td>\n",
       "      <td>8.5</td>\n",
       "      <td>110</td>\n",
       "      <td>5500</td>\n",
       "      <td>19</td>\n",
       "      <td>25</td>\n",
       "      <td>18920</td>\n",
       "    </tr>\n",
       "    <tr>\n",
       "      <th>8</th>\n",
       "      <td>1</td>\n",
       "      <td>158</td>\n",
       "      <td>audi</td>\n",
       "      <td>gas</td>\n",
       "      <td>turbo</td>\n",
       "      <td>four</td>\n",
       "      <td>sedan</td>\n",
       "      <td>fwd</td>\n",
       "      <td>front</td>\n",
       "      <td>105.8</td>\n",
       "      <td>...</td>\n",
       "      <td>131</td>\n",
       "      <td>mpfi</td>\n",
       "      <td>3.13</td>\n",
       "      <td>3.40</td>\n",
       "      <td>8.3</td>\n",
       "      <td>140</td>\n",
       "      <td>5500</td>\n",
       "      <td>17</td>\n",
       "      <td>20</td>\n",
       "      <td>23875</td>\n",
       "    </tr>\n",
       "    <tr>\n",
       "      <th>9</th>\n",
       "      <td>2</td>\n",
       "      <td>192</td>\n",
       "      <td>bmw</td>\n",
       "      <td>gas</td>\n",
       "      <td>std</td>\n",
       "      <td>two</td>\n",
       "      <td>sedan</td>\n",
       "      <td>rwd</td>\n",
       "      <td>front</td>\n",
       "      <td>101.2</td>\n",
       "      <td>...</td>\n",
       "      <td>108</td>\n",
       "      <td>mpfi</td>\n",
       "      <td>3.50</td>\n",
       "      <td>2.80</td>\n",
       "      <td>8.8</td>\n",
       "      <td>101</td>\n",
       "      <td>5800</td>\n",
       "      <td>23</td>\n",
       "      <td>29</td>\n",
       "      <td>16430</td>\n",
       "    </tr>\n",
       "    <tr>\n",
       "      <th>10</th>\n",
       "      <td>0</td>\n",
       "      <td>192</td>\n",
       "      <td>bmw</td>\n",
       "      <td>gas</td>\n",
       "      <td>std</td>\n",
       "      <td>four</td>\n",
       "      <td>sedan</td>\n",
       "      <td>rwd</td>\n",
       "      <td>front</td>\n",
       "      <td>101.2</td>\n",
       "      <td>...</td>\n",
       "      <td>108</td>\n",
       "      <td>mpfi</td>\n",
       "      <td>3.50</td>\n",
       "      <td>2.80</td>\n",
       "      <td>8.8</td>\n",
       "      <td>101</td>\n",
       "      <td>5800</td>\n",
       "      <td>23</td>\n",
       "      <td>29</td>\n",
       "      <td>16925</td>\n",
       "    </tr>\n",
       "    <tr>\n",
       "      <th>11</th>\n",
       "      <td>0</td>\n",
       "      <td>188</td>\n",
       "      <td>bmw</td>\n",
       "      <td>gas</td>\n",
       "      <td>std</td>\n",
       "      <td>two</td>\n",
       "      <td>sedan</td>\n",
       "      <td>rwd</td>\n",
       "      <td>front</td>\n",
       "      <td>101.2</td>\n",
       "      <td>...</td>\n",
       "      <td>164</td>\n",
       "      <td>mpfi</td>\n",
       "      <td>3.31</td>\n",
       "      <td>3.19</td>\n",
       "      <td>9.0</td>\n",
       "      <td>121</td>\n",
       "      <td>4250</td>\n",
       "      <td>21</td>\n",
       "      <td>28</td>\n",
       "      <td>20970</td>\n",
       "    </tr>\n",
       "    <tr>\n",
       "      <th>12</th>\n",
       "      <td>0</td>\n",
       "      <td>188</td>\n",
       "      <td>bmw</td>\n",
       "      <td>gas</td>\n",
       "      <td>std</td>\n",
       "      <td>four</td>\n",
       "      <td>sedan</td>\n",
       "      <td>rwd</td>\n",
       "      <td>front</td>\n",
       "      <td>101.2</td>\n",
       "      <td>...</td>\n",
       "      <td>164</td>\n",
       "      <td>mpfi</td>\n",
       "      <td>3.31</td>\n",
       "      <td>3.19</td>\n",
       "      <td>9.0</td>\n",
       "      <td>121</td>\n",
       "      <td>4250</td>\n",
       "      <td>21</td>\n",
       "      <td>28</td>\n",
       "      <td>21105</td>\n",
       "    </tr>\n",
       "    <tr>\n",
       "      <th>13</th>\n",
       "      <td>1</td>\n",
       "      <td>149</td>\n",
       "      <td>bmw</td>\n",
       "      <td>gas</td>\n",
       "      <td>std</td>\n",
       "      <td>four</td>\n",
       "      <td>sedan</td>\n",
       "      <td>rwd</td>\n",
       "      <td>front</td>\n",
       "      <td>103.5</td>\n",
       "      <td>...</td>\n",
       "      <td>164</td>\n",
       "      <td>mpfi</td>\n",
       "      <td>3.31</td>\n",
       "      <td>3.19</td>\n",
       "      <td>9.0</td>\n",
       "      <td>121</td>\n",
       "      <td>4250</td>\n",
       "      <td>20</td>\n",
       "      <td>25</td>\n",
       "      <td>24565</td>\n",
       "    </tr>\n",
       "    <tr>\n",
       "      <th>14</th>\n",
       "      <td>0</td>\n",
       "      <td>149</td>\n",
       "      <td>bmw</td>\n",
       "      <td>gas</td>\n",
       "      <td>std</td>\n",
       "      <td>four</td>\n",
       "      <td>sedan</td>\n",
       "      <td>rwd</td>\n",
       "      <td>front</td>\n",
       "      <td>103.5</td>\n",
       "      <td>...</td>\n",
       "      <td>209</td>\n",
       "      <td>mpfi</td>\n",
       "      <td>3.62</td>\n",
       "      <td>3.39</td>\n",
       "      <td>8.0</td>\n",
       "      <td>182</td>\n",
       "      <td>5400</td>\n",
       "      <td>16</td>\n",
       "      <td>22</td>\n",
       "      <td>30760</td>\n",
       "    </tr>\n",
       "  </tbody>\n",
       "</table>\n",
       "<p>15 rows × 26 columns</p>\n",
       "</div>"
      ],
      "text/plain": [
       "    symboling  normalized_losses         make fuel_type aspiration  \\\n",
       "0           3                168  alfa-romero       gas        std   \n",
       "1           3                168  alfa-romero       gas        std   \n",
       "2           1                168  alfa-romero       gas        std   \n",
       "3           2                164         audi       gas        std   \n",
       "4           2                164         audi       gas        std   \n",
       "5           2                161         audi       gas        std   \n",
       "6           1                158         audi       gas        std   \n",
       "7           1                168         audi       gas        std   \n",
       "8           1                158         audi       gas      turbo   \n",
       "9           2                192          bmw       gas        std   \n",
       "10          0                192          bmw       gas        std   \n",
       "11          0                188          bmw       gas        std   \n",
       "12          0                188          bmw       gas        std   \n",
       "13          1                149          bmw       gas        std   \n",
       "14          0                149          bmw       gas        std   \n",
       "\n",
       "   number_of_doors   body_style drive_wheels engine_location  wheel_base  ...  \\\n",
       "0              two  convertible          rwd           front        88.6  ...   \n",
       "1              two  convertible          rwd           front        88.6  ...   \n",
       "2              two    hatchback          rwd           front        94.5  ...   \n",
       "3             four        sedan          fwd           front        99.8  ...   \n",
       "4             four        sedan          4wd           front        99.4  ...   \n",
       "5              two        sedan          fwd           front        99.8  ...   \n",
       "6             four        sedan          fwd           front       105.8  ...   \n",
       "7             four        wagon          fwd           front       105.8  ...   \n",
       "8             four        sedan          fwd           front       105.8  ...   \n",
       "9              two        sedan          rwd           front       101.2  ...   \n",
       "10            four        sedan          rwd           front       101.2  ...   \n",
       "11             two        sedan          rwd           front       101.2  ...   \n",
       "12            four        sedan          rwd           front       101.2  ...   \n",
       "13            four        sedan          rwd           front       103.5  ...   \n",
       "14            four        sedan          rwd           front       103.5  ...   \n",
       "\n",
       "    engine_size  fuel_system  bore  stroke compression_ratio horsepower  \\\n",
       "0           130         mpfi  3.47    2.68               9.0        111   \n",
       "1           130         mpfi  3.47    2.68               9.0        111   \n",
       "2           152         mpfi  2.68    3.47               9.0        154   \n",
       "3           109         mpfi  3.19    3.40              10.0        102   \n",
       "4           136         mpfi  3.19    3.40               8.0        115   \n",
       "5           136         mpfi  3.19    3.40               8.5        110   \n",
       "6           136         mpfi  3.19    3.40               8.5        110   \n",
       "7           136         mpfi  3.19    3.40               8.5        110   \n",
       "8           131         mpfi  3.13    3.40               8.3        140   \n",
       "9           108         mpfi  3.50    2.80               8.8        101   \n",
       "10          108         mpfi  3.50    2.80               8.8        101   \n",
       "11          164         mpfi  3.31    3.19               9.0        121   \n",
       "12          164         mpfi  3.31    3.19               9.0        121   \n",
       "13          164         mpfi  3.31    3.19               9.0        121   \n",
       "14          209         mpfi  3.62    3.39               8.0        182   \n",
       "\n",
       "    peak_rpm city_mpg  highway_mpg  price  \n",
       "0       5000       21           27  13495  \n",
       "1       5000       21           27  16500  \n",
       "2       5000       19           26  16500  \n",
       "3       5500       24           30  13950  \n",
       "4       5500       18           22  17450  \n",
       "5       5500       19           25  15250  \n",
       "6       5500       19           25  17710  \n",
       "7       5500       19           25  18920  \n",
       "8       5500       17           20  23875  \n",
       "9       5800       23           29  16430  \n",
       "10      5800       23           29  16925  \n",
       "11      4250       21           28  20970  \n",
       "12      4250       21           28  21105  \n",
       "13      4250       20           25  24565  \n",
       "14      5400       16           22  30760  \n",
       "\n",
       "[15 rows x 26 columns]"
      ]
     },
     "execution_count": 2,
     "metadata": {},
     "output_type": "execute_result"
    }
   ],
   "source": [
    "#Seu Código aqui...\n",
    "car_df = pd.read_csv('dataset/Automobile.csv')\n",
    "car_df.head(15)"
   ]
  },
  {
   "cell_type": "code",
   "execution_count": 3,
   "metadata": {},
   "outputs": [
    {
     "data": {
      "text/plain": [
       "Index(['symboling', 'normalized_losses', 'make', 'fuel_type', 'aspiration',\n",
       "       'number_of_doors', 'body_style', 'drive_wheels', 'engine_location',\n",
       "       'wheel_base', 'length', 'width', 'height', 'curb_weight', 'engine_type',\n",
       "       'number_of_cylinders', 'engine_size', 'fuel_system', 'bore', 'stroke',\n",
       "       'compression_ratio', 'horsepower', 'peak_rpm', 'city_mpg',\n",
       "       'highway_mpg', 'price'],\n",
       "      dtype='object')"
      ]
     },
     "execution_count": 3,
     "metadata": {},
     "output_type": "execute_result"
    }
   ],
   "source": [
    "car_df.columns"
   ]
  },
  {
   "cell_type": "code",
   "execution_count": 4,
   "metadata": {},
   "outputs": [
    {
     "name": "stdout",
     "output_type": "stream",
     "text": [
      "<class 'pandas.core.frame.DataFrame'>\n",
      "RangeIndex: 201 entries, 0 to 200\n",
      "Data columns (total 26 columns):\n",
      " #   Column               Non-Null Count  Dtype  \n",
      "---  ------               --------------  -----  \n",
      " 0   symboling            201 non-null    int64  \n",
      " 1   normalized_losses    201 non-null    int64  \n",
      " 2   make                 201 non-null    object \n",
      " 3   fuel_type            201 non-null    object \n",
      " 4   aspiration           201 non-null    object \n",
      " 5   number_of_doors      201 non-null    object \n",
      " 6   body_style           201 non-null    object \n",
      " 7   drive_wheels         201 non-null    object \n",
      " 8   engine_location      201 non-null    object \n",
      " 9   wheel_base           201 non-null    float64\n",
      " 10  length               201 non-null    float64\n",
      " 11  width                201 non-null    float64\n",
      " 12  height               201 non-null    float64\n",
      " 13  curb_weight          201 non-null    int64  \n",
      " 14  engine_type          201 non-null    object \n",
      " 15  number_of_cylinders  201 non-null    object \n",
      " 16  engine_size          201 non-null    int64  \n",
      " 17  fuel_system          201 non-null    object \n",
      " 18  bore                 201 non-null    float64\n",
      " 19  stroke               201 non-null    float64\n",
      " 20  compression_ratio    201 non-null    float64\n",
      " 21  horsepower           201 non-null    int64  \n",
      " 22  peak_rpm             201 non-null    int64  \n",
      " 23  city_mpg             201 non-null    int64  \n",
      " 24  highway_mpg          201 non-null    int64  \n",
      " 25  price                201 non-null    int64  \n",
      "dtypes: float64(7), int64(9), object(10)\n",
      "memory usage: 41.0+ KB\n"
     ]
    }
   ],
   "source": [
    "car_df.info()"
   ]
  },
  {
   "cell_type": "code",
   "execution_count": 5,
   "metadata": {},
   "outputs": [
    {
     "data": {
      "text/plain": [
       "8921     2\n",
       "18150    2\n",
       "8845     2\n",
       "8495     2\n",
       "7609     2\n",
       "        ..\n",
       "45400    1\n",
       "16503    1\n",
       "5389     1\n",
       "6189     1\n",
       "22625    1\n",
       "Name: price, Length: 186, dtype: int64"
      ]
     },
     "execution_count": 5,
     "metadata": {},
     "output_type": "execute_result"
    }
   ],
   "source": [
    "car_df['price'].value_counts()"
   ]
  },
  {
   "cell_type": "code",
   "execution_count": 6,
   "metadata": {},
   "outputs": [
    {
     "data": {
      "text/html": [
       "<div>\n",
       "<style scoped>\n",
       "    .dataframe tbody tr th:only-of-type {\n",
       "        vertical-align: middle;\n",
       "    }\n",
       "\n",
       "    .dataframe tbody tr th {\n",
       "        vertical-align: top;\n",
       "    }\n",
       "\n",
       "    .dataframe thead th {\n",
       "        text-align: right;\n",
       "    }\n",
       "</style>\n",
       "<table border=\"1\" class=\"dataframe\">\n",
       "  <thead>\n",
       "    <tr style=\"text-align: right;\">\n",
       "      <th></th>\n",
       "      <th>symboling</th>\n",
       "      <th>normalized_losses</th>\n",
       "      <th>wheel_base</th>\n",
       "      <th>length</th>\n",
       "      <th>width</th>\n",
       "      <th>height</th>\n",
       "      <th>curb_weight</th>\n",
       "      <th>engine_size</th>\n",
       "      <th>bore</th>\n",
       "      <th>stroke</th>\n",
       "      <th>compression_ratio</th>\n",
       "      <th>horsepower</th>\n",
       "      <th>peak_rpm</th>\n",
       "      <th>city_mpg</th>\n",
       "      <th>highway_mpg</th>\n",
       "      <th>price</th>\n",
       "    </tr>\n",
       "  </thead>\n",
       "  <tbody>\n",
       "    <tr>\n",
       "      <th>count</th>\n",
       "      <td>201.000000</td>\n",
       "      <td>201.000000</td>\n",
       "      <td>201.000000</td>\n",
       "      <td>201.000000</td>\n",
       "      <td>201.000000</td>\n",
       "      <td>201.000000</td>\n",
       "      <td>201.000000</td>\n",
       "      <td>201.000000</td>\n",
       "      <td>201.000000</td>\n",
       "      <td>201.000000</td>\n",
       "      <td>201.000000</td>\n",
       "      <td>201.000000</td>\n",
       "      <td>201.000000</td>\n",
       "      <td>201.000000</td>\n",
       "      <td>201.000000</td>\n",
       "      <td>201.000000</td>\n",
       "    </tr>\n",
       "    <tr>\n",
       "      <th>mean</th>\n",
       "      <td>0.840796</td>\n",
       "      <td>125.189055</td>\n",
       "      <td>98.797015</td>\n",
       "      <td>174.200995</td>\n",
       "      <td>65.889055</td>\n",
       "      <td>53.766667</td>\n",
       "      <td>2555.666667</td>\n",
       "      <td>126.875622</td>\n",
       "      <td>3.329701</td>\n",
       "      <td>3.261741</td>\n",
       "      <td>10.164279</td>\n",
       "      <td>103.263682</td>\n",
       "      <td>5121.393035</td>\n",
       "      <td>25.179104</td>\n",
       "      <td>30.686567</td>\n",
       "      <td>13207.129353</td>\n",
       "    </tr>\n",
       "    <tr>\n",
       "      <th>std</th>\n",
       "      <td>1.254802</td>\n",
       "      <td>33.572966</td>\n",
       "      <td>6.066366</td>\n",
       "      <td>12.322175</td>\n",
       "      <td>2.101471</td>\n",
       "      <td>2.447822</td>\n",
       "      <td>517.296727</td>\n",
       "      <td>41.546834</td>\n",
       "      <td>0.268166</td>\n",
       "      <td>0.317875</td>\n",
       "      <td>4.004965</td>\n",
       "      <td>37.389372</td>\n",
       "      <td>479.624905</td>\n",
       "      <td>6.423220</td>\n",
       "      <td>6.815150</td>\n",
       "      <td>7947.066342</td>\n",
       "    </tr>\n",
       "    <tr>\n",
       "      <th>min</th>\n",
       "      <td>-2.000000</td>\n",
       "      <td>65.000000</td>\n",
       "      <td>86.600000</td>\n",
       "      <td>141.100000</td>\n",
       "      <td>60.300000</td>\n",
       "      <td>47.800000</td>\n",
       "      <td>1488.000000</td>\n",
       "      <td>61.000000</td>\n",
       "      <td>2.540000</td>\n",
       "      <td>2.070000</td>\n",
       "      <td>7.000000</td>\n",
       "      <td>48.000000</td>\n",
       "      <td>4150.000000</td>\n",
       "      <td>13.000000</td>\n",
       "      <td>16.000000</td>\n",
       "      <td>5118.000000</td>\n",
       "    </tr>\n",
       "    <tr>\n",
       "      <th>25%</th>\n",
       "      <td>0.000000</td>\n",
       "      <td>101.000000</td>\n",
       "      <td>94.500000</td>\n",
       "      <td>166.800000</td>\n",
       "      <td>64.100000</td>\n",
       "      <td>52.000000</td>\n",
       "      <td>2169.000000</td>\n",
       "      <td>98.000000</td>\n",
       "      <td>3.150000</td>\n",
       "      <td>3.110000</td>\n",
       "      <td>8.600000</td>\n",
       "      <td>70.000000</td>\n",
       "      <td>4800.000000</td>\n",
       "      <td>19.000000</td>\n",
       "      <td>25.000000</td>\n",
       "      <td>7775.000000</td>\n",
       "    </tr>\n",
       "    <tr>\n",
       "      <th>50%</th>\n",
       "      <td>1.000000</td>\n",
       "      <td>122.000000</td>\n",
       "      <td>97.000000</td>\n",
       "      <td>173.200000</td>\n",
       "      <td>65.500000</td>\n",
       "      <td>54.100000</td>\n",
       "      <td>2414.000000</td>\n",
       "      <td>120.000000</td>\n",
       "      <td>3.310000</td>\n",
       "      <td>3.290000</td>\n",
       "      <td>9.000000</td>\n",
       "      <td>95.000000</td>\n",
       "      <td>5200.000000</td>\n",
       "      <td>24.000000</td>\n",
       "      <td>30.000000</td>\n",
       "      <td>10295.000000</td>\n",
       "    </tr>\n",
       "    <tr>\n",
       "      <th>75%</th>\n",
       "      <td>2.000000</td>\n",
       "      <td>150.000000</td>\n",
       "      <td>102.400000</td>\n",
       "      <td>183.500000</td>\n",
       "      <td>66.600000</td>\n",
       "      <td>55.500000</td>\n",
       "      <td>2926.000000</td>\n",
       "      <td>141.000000</td>\n",
       "      <td>3.580000</td>\n",
       "      <td>3.460000</td>\n",
       "      <td>9.400000</td>\n",
       "      <td>116.000000</td>\n",
       "      <td>5500.000000</td>\n",
       "      <td>30.000000</td>\n",
       "      <td>34.000000</td>\n",
       "      <td>16500.000000</td>\n",
       "    </tr>\n",
       "    <tr>\n",
       "      <th>max</th>\n",
       "      <td>3.000000</td>\n",
       "      <td>256.000000</td>\n",
       "      <td>120.900000</td>\n",
       "      <td>208.100000</td>\n",
       "      <td>72.000000</td>\n",
       "      <td>59.800000</td>\n",
       "      <td>4066.000000</td>\n",
       "      <td>326.000000</td>\n",
       "      <td>3.940000</td>\n",
       "      <td>4.170000</td>\n",
       "      <td>23.000000</td>\n",
       "      <td>262.000000</td>\n",
       "      <td>6600.000000</td>\n",
       "      <td>49.000000</td>\n",
       "      <td>54.000000</td>\n",
       "      <td>45400.000000</td>\n",
       "    </tr>\n",
       "  </tbody>\n",
       "</table>\n",
       "</div>"
      ],
      "text/plain": [
       "        symboling  normalized_losses  wheel_base      length       width  \\\n",
       "count  201.000000         201.000000  201.000000  201.000000  201.000000   \n",
       "mean     0.840796         125.189055   98.797015  174.200995   65.889055   \n",
       "std      1.254802          33.572966    6.066366   12.322175    2.101471   \n",
       "min     -2.000000          65.000000   86.600000  141.100000   60.300000   \n",
       "25%      0.000000         101.000000   94.500000  166.800000   64.100000   \n",
       "50%      1.000000         122.000000   97.000000  173.200000   65.500000   \n",
       "75%      2.000000         150.000000  102.400000  183.500000   66.600000   \n",
       "max      3.000000         256.000000  120.900000  208.100000   72.000000   \n",
       "\n",
       "           height  curb_weight  engine_size        bore      stroke  \\\n",
       "count  201.000000   201.000000   201.000000  201.000000  201.000000   \n",
       "mean    53.766667  2555.666667   126.875622    3.329701    3.261741   \n",
       "std      2.447822   517.296727    41.546834    0.268166    0.317875   \n",
       "min     47.800000  1488.000000    61.000000    2.540000    2.070000   \n",
       "25%     52.000000  2169.000000    98.000000    3.150000    3.110000   \n",
       "50%     54.100000  2414.000000   120.000000    3.310000    3.290000   \n",
       "75%     55.500000  2926.000000   141.000000    3.580000    3.460000   \n",
       "max     59.800000  4066.000000   326.000000    3.940000    4.170000   \n",
       "\n",
       "       compression_ratio  horsepower     peak_rpm    city_mpg  highway_mpg  \\\n",
       "count         201.000000  201.000000   201.000000  201.000000   201.000000   \n",
       "mean           10.164279  103.263682  5121.393035   25.179104    30.686567   \n",
       "std             4.004965   37.389372   479.624905    6.423220     6.815150   \n",
       "min             7.000000   48.000000  4150.000000   13.000000    16.000000   \n",
       "25%             8.600000   70.000000  4800.000000   19.000000    25.000000   \n",
       "50%             9.000000   95.000000  5200.000000   24.000000    30.000000   \n",
       "75%             9.400000  116.000000  5500.000000   30.000000    34.000000   \n",
       "max            23.000000  262.000000  6600.000000   49.000000    54.000000   \n",
       "\n",
       "              price  \n",
       "count    201.000000  \n",
       "mean   13207.129353  \n",
       "std     7947.066342  \n",
       "min     5118.000000  \n",
       "25%     7775.000000  \n",
       "50%    10295.000000  \n",
       "75%    16500.000000  \n",
       "max    45400.000000  "
      ]
     },
     "execution_count": 6,
     "metadata": {},
     "output_type": "execute_result"
    }
   ],
   "source": [
    "car_df.describe()\n",
    "#mean = média \n",
    "#std = desvio padrão\n",
    "#25% = primeiro quartil\n",
    "#50% = mediana\n",
    "#75% = terceiro quartil\n",
    "#Pega somente valores númericos"
   ]
  },
  {
   "cell_type": "markdown",
   "metadata": {},
   "source": [
    "**Pergunta:** Apresente uma relação das coluna e seu significado:\n",
    "\n",
    "Exemplo: \n",
    "\n",
    "- make: fabricante\n",
    "- fuel_type: tipo de combustível\n",
    "- price: preço (**Variável Alvo, atributo que será predito pelo modelo de ML**)"
   ]
  },
  {
   "cell_type": "markdown",
   "metadata": {},
   "source": [
    "**Responda**\n",
    " <center>\n",
    " 'symboling' <br>\n",
    " 'normalized_losses' = Perdas normalizadas <br>\n",
    " 'make', = Nome do Fabricante<br>\n",
    " 'fuel_type' = Tipo de combustível do carro <br>\n",
    " 'aspiration'= Caso motor aspirado ou turbo<br>\n",
    " 'number_of_doors' = Quantidade de portas<br>\n",
    " 'body_style' = Categoria do carro<br>\n",
    " 'drive_wheels' = Tração do carro dianteira traseira ou 4x4<br>\n",
    " 'engine_location' = Onde o motor se localiza<br>\n",
    " 'wheel_base' = Ditância entre os eixos <br>\n",
    " 'length'= Cumprimento do carro <br>\n",
    " 'width' = Largura do carro<br>\n",
    " 'height' = Altura do carro <br>\n",
    " 'curb_weight' = Peso do veículo sem nenhuma pssageiro dentro <br>\n",
    " 'engine_type' = tecnologia do motor<br>\n",
    " 'number_of_cylinders' = Quantidade de cilíndros <br>\n",
    " 'engine_size' = Tamanho do motor <br>\n",
    " 'fuel_system' = Sistemas de combustível <br>\n",
    " 'bore' = Diâmetro de cada cilindro<br>\n",
    " 'stroke' = Movimento do pistão distância da rotação<br>\n",
    " 'compression_ratio' = Taxa de compressão de combustão do veículo<br>\n",
    " 'horsepower' = Quantidade de força em cavalos <br>\n",
    " 'peak_rpm', = Tipo de rotação<br>\n",
    " 'city_mpg' = Distância percorrida em milhas por galão de combustível na cidade<br>\n",
    " 'highway_mpg'= Distância percorrida em milhas por galão de combustível na rodovia<br>\n",
    " 'price' =  Target valor Dependente Valor do carro\n",
    " </center>"
   ]
  },
  {
   "cell_type": "markdown",
   "metadata": {},
   "source": [
    "### Análise profunda dos dados\n",
    "\n",
    "Faça uma análise exploratória dos dados. Utilize-se de gráficos e tabelas auxiliares, faça correlações entre os atributos e levante algumas suposições. "
   ]
  },
  {
   "cell_type": "code",
   "execution_count": 7,
   "metadata": {},
   "outputs": [
    {
     "name": "stdout",
     "output_type": "stream",
     "text": [
      "Correlação dos dados no DataFrame :\n",
      "                   symboling  normalized_losses  wheel_base    length  \\\n",
      "symboling           1.000000           0.474993   -0.535987 -0.365404   \n",
      "normalized_losses   0.474993           1.000000    0.007815  0.103659   \n",
      "wheel_base         -0.535987           0.007815    1.000000  0.876024   \n",
      "length             -0.365404           0.103659    0.876024  1.000000   \n",
      "width              -0.242423           0.153752    0.814507  0.857170   \n",
      "height             -0.550160          -0.335476    0.590742  0.492063   \n",
      "curb_weight        -0.233118           0.178547    0.782097  0.880665   \n",
      "engine_size        -0.110581           0.174788    0.572027  0.685025   \n",
      "bore               -0.146355           0.007498    0.495210  0.610324   \n",
      "stroke              0.018373           0.062666    0.148239  0.116745   \n",
      "compression_ratio  -0.182196          -0.120846    0.250313  0.159733   \n",
      "horsepower          0.075287           0.276665    0.372607  0.577923   \n",
      "peak_rpm            0.279849           0.211812   -0.362642 -0.281932   \n",
      "city_mpg           -0.035527          -0.301206   -0.470606 -0.665192   \n",
      "highway_mpg         0.036233          -0.264594   -0.543304 -0.698142   \n",
      "price              -0.082391           0.208886    0.584642  0.690628   \n",
      "\n",
      "                      width    height  curb_weight  engine_size      bore  \\\n",
      "symboling         -0.242423 -0.550160    -0.233118    -0.110581 -0.146355   \n",
      "normalized_losses  0.153752 -0.335476     0.178547     0.174788  0.007498   \n",
      "wheel_base         0.814507  0.590742     0.782097     0.572027  0.495210   \n",
      "length             0.857170  0.492063     0.880665     0.685025  0.610324   \n",
      "width              1.000000  0.306002     0.866201     0.729436  0.545028   \n",
      "height             0.306002  1.000000     0.307581     0.074694  0.186701   \n",
      "curb_weight        0.866201  0.307581     1.000000     0.849072  0.644871   \n",
      "engine_size        0.729436  0.074694     0.849072     1.000000  0.577265   \n",
      "bore               0.545028  0.186701     0.644871     0.577265  1.000000   \n",
      "stroke             0.186352 -0.086508     0.162179     0.184605 -0.057887   \n",
      "compression_ratio  0.189867  0.259737     0.156433     0.028889  0.001971   \n",
      "horsepower         0.613488 -0.085544     0.757762     0.821685  0.563921   \n",
      "peak_rpm          -0.242569 -0.311922    -0.279027    -0.254961 -0.269486   \n",
      "city_mpg          -0.633531 -0.049800    -0.749543    -0.650546 -0.576954   \n",
      "highway_mpg       -0.680635 -0.104812    -0.794889    -0.679571 -0.586917   \n",
      "price              0.751265  0.135486     0.834415     0.872335  0.543052   \n",
      "\n",
      "                     stroke  compression_ratio  horsepower  peak_rpm  \\\n",
      "symboling          0.018373          -0.182196    0.075287  0.279849   \n",
      "normalized_losses  0.062666          -0.120846    0.276665  0.211812   \n",
      "wheel_base         0.148239           0.250313    0.372607 -0.362642   \n",
      "length             0.116745           0.159733    0.577923 -0.281932   \n",
      "width              0.186352           0.189867    0.613488 -0.242569   \n",
      "height            -0.086508           0.259737   -0.085544 -0.311922   \n",
      "curb_weight        0.162179           0.156433    0.757762 -0.279027   \n",
      "engine_size        0.184605           0.028889    0.821685 -0.254961   \n",
      "bore              -0.057887           0.001971    0.563921 -0.269486   \n",
      "stroke             1.000000           0.183855    0.092493 -0.019004   \n",
      "compression_ratio  0.183855           1.000000   -0.212984 -0.437263   \n",
      "horsepower         0.092493          -0.212984    1.000000  0.104645   \n",
      "peak_rpm          -0.019004          -0.437263    0.104645  1.000000   \n",
      "city_mpg          -0.053955           0.331425   -0.820400 -0.117699   \n",
      "highway_mpg       -0.051793           0.268465   -0.804241 -0.058054   \n",
      "price              0.081434           0.071107    0.810795 -0.104846   \n",
      "\n",
      "                   city_mpg  highway_mpg     price  \n",
      "symboling         -0.035527     0.036233 -0.082391  \n",
      "normalized_losses -0.301206    -0.264594  0.208886  \n",
      "wheel_base        -0.470606    -0.543304  0.584642  \n",
      "length            -0.665192    -0.698142  0.690628  \n",
      "width             -0.633531    -0.680635  0.751265  \n",
      "height            -0.049800    -0.104812  0.135486  \n",
      "curb_weight       -0.749543    -0.794889  0.834415  \n",
      "engine_size       -0.650546    -0.679571  0.872335  \n",
      "bore              -0.576954    -0.586917  0.543052  \n",
      "stroke            -0.053955    -0.051793  0.081434  \n",
      "compression_ratio  0.331425     0.268465  0.071107  \n",
      "horsepower        -0.820400    -0.804241  0.810795  \n",
      "peak_rpm          -0.117699    -0.058054 -0.104846  \n",
      "city_mpg           1.000000     0.972044 -0.686571  \n",
      "highway_mpg        0.972044     1.000000 -0.704692  \n",
      "price             -0.686571    -0.704692  1.000000   \n",
      "\n"
     ]
    }
   ],
   "source": [
    "corr_df = car_df.corr()\n",
    "print(\"Correlação dos dados no DataFrame :\")\n",
    "print(corr_df, \"\\n\")"
   ]
  },
  {
   "cell_type": "code",
   "execution_count": 8,
   "metadata": {},
   "outputs": [
    {
     "data": {
      "image/png": "[encoded data removed]",
      "text/plain": [
       "<Figure size 864x720 with 2 Axes>"
      ]
     },
     "metadata": {
      "needs_background": "light"
     },
     "output_type": "display_data"
    }
   ],
   "source": [
    "corr_df = car_df.corr(method='pearson')\n",
    "\n",
    "plt.figure(figsize=(12,10))\n",
    "sns.heatmap(corr_df, annot=True)\n",
    "plt.show()"
   ]
  },
  {
   "cell_type": "code",
   "execution_count": 9,
   "metadata": {},
   "outputs": [
    {
     "name": "stdout",
     "output_type": "stream",
     "text": [
      "<seaborn.axisgrid.FacetGrid object at 0x143ab0a30>\n"
     ]
    },
    {
     "data": {
      "image/png": "[encoded data removed]",
      "text/plain": [
       "<Figure size 864x432 with 1 Axes>"
      ]
     },
     "metadata": {
      "needs_background": "light"
     },
     "output_type": "display_data"
    }
   ],
   "source": [
    "ax = sns.lmplot(x = \"horsepower\", y = \"price\", data=car_df)\n",
    "ax.fig.set_size_inches(12,6)\n",
    "ax.fig.suptitle('Reta de Regressão - horsepower x price', fontsize=16, y=1.02)\n",
    "ax.set_xlabels(\"Horsepower\", fontsize =14)\n",
    "ax.set_ylabels(\"Valor final do carro\", fontsize=14)\n",
    "print(ax)\n"
   ]
  },
  {
   "cell_type": "markdown",
   "metadata": {},
   "source": [
    "**Pergunta:** Cite um exemplo de pelo menos os 3 cenários propostos que corroboram a leitura dos dados apresentados, justique sua resposta."
   ]
  },
  {
   "cell_type": "markdown",
   "metadata": {},
   "source": [
    "**Resposta:**\n",
    "\n",
    "<hr>\n",
    "\n",
    "***Cenário 1***\n",
    "<p>De acordo com os dados analisados, notamos que o valor final do veículo e diretamente afetado por variáveis como: \n",
    "<ul>\n",
    "    <li>engine_size</li>\n",
    "    <li>bore</li>\n",
    "    <li>stroke</li>\n",
    "    <li>compression_ratio</li>\n",
    "    <li>curb_weight</li>\n",
    "</ul>\n",
    "<b>Como hoursepower é uma unidade de medida para nivelar o potência do carro podemos representar o coluna influênciando diretamente no valor final do veículo</b>\n",
    "<hr>\n",
    "    \n",
    "***Cenário 2***\n",
    "<ul>\n",
    "    <li>city_mpg</li>\n",
    "    <li>highway_mpg</li>\n",
    "    <li>fuel_type</li>\n",
    "</ul>\n",
    "<b>Como a principal fonte de energia dos veículos são preços variáveias de acordo com a economia, encontrar um veículo que tenha uma boa eficiência de miles per gallon(MPG) afeta diretamente no valor final do veículo</b>\n",
    "<hr>\n",
    "    \n",
    "***Cenário 3***\n",
    "\n",
    "<b>Como cada fabricante tem seus respectivos público alvos e fatia de mercado o a coluna make tem uma importância relevante que afeta no valor final do veículo</b>"
   ]
  },
  {
   "cell_type": "markdown",
   "metadata": {},
   "source": [
    "## 2. Preparação dos Dados"
   ]
  },
  {
   "cell_type": "markdown",
   "metadata": {},
   "source": [
    "### Análise de valores inválidos\n",
    "\n",
    "Faça a análise de dados ausente, dados nulos e dados iguais a 0(zero). **Lembre-se:** Trate esses dados dentro do contexto de análise e justifique suas escolhas.\n",
    " "
   ]
  },
  {
   "cell_type": "markdown",
   "metadata": {},
   "source": [
    "**Resposta:**\n",
    "<p>\n",
    "    Idêntificamos a existência de dados igual a zero na column symboling porém ele entra dentro de uma escala plausível de classificação da tabela, foi análisado nas colunas restantes, más todas com respectivos valores inseridas corretamente não destoando o dataset.\n",
    "</p>"
   ]
  },
  {
   "cell_type": "code",
   "execution_count": 10,
   "metadata": {},
   "outputs": [
    {
     "name": "stdout",
     "output_type": "stream",
     "text": [
      " 0    65\n",
      " 1    52\n",
      " 2    32\n",
      " 3    27\n",
      "-1    22\n",
      "-2     3\n",
      "Name: symboling, dtype: int64\n",
      "161    16\n",
      "168     9\n",
      "128     9\n",
      "91      8\n",
      "150     7\n",
      "134     6\n",
      "104     6\n",
      "85      5\n",
      "94      5\n",
      "65      5\n",
      "102     5\n",
      "74      5\n",
      "103     5\n",
      "122     5\n",
      "115     5\n",
      "95      5\n",
      "149     4\n",
      "137     4\n",
      "118     4\n",
      "110     4\n",
      "129     4\n",
      "106     4\n",
      "93      4\n",
      "148     4\n",
      "139     3\n",
      "101     3\n",
      "132     3\n",
      "154     3\n",
      "119     3\n",
      "83      3\n",
      "140     3\n",
      "125     3\n",
      "192     2\n",
      "197     2\n",
      "89      2\n",
      "87      2\n",
      "158     2\n",
      "194     2\n",
      "108     2\n",
      "81      2\n",
      "153     2\n",
      "164     2\n",
      "113     2\n",
      "145     2\n",
      "188     2\n",
      "133     1\n",
      "90      1\n",
      "256     1\n",
      "78      1\n",
      "77      1\n",
      "121     1\n",
      "186     1\n",
      "141     1\n",
      "98      1\n",
      "231     1\n",
      "105     1\n",
      "107     1\n",
      "142     1\n",
      "Name: normalized_losses, dtype: int64\n",
      "toyota           32\n",
      "nissan           18\n",
      "mazda            17\n",
      "mitsubishi       13\n",
      "honda            13\n",
      "volkswagen       12\n",
      "subaru           12\n",
      "peugot           11\n",
      "volvo            11\n",
      "dodge             9\n",
      "mercedes-benz     8\n",
      "bmw               8\n",
      "plymouth          7\n",
      "audi              6\n",
      "saab              6\n",
      "porsche           4\n",
      "jaguar            3\n",
      "chevrolet         3\n",
      "alfa-romero       3\n",
      "isuzu             2\n",
      "renault           2\n",
      "mercury           1\n",
      "Name: make, dtype: int64\n",
      "gas       181\n",
      "diesel     20\n",
      "Name: fuel_type, dtype: int64\n",
      "std      165\n",
      "turbo     36\n",
      "Name: aspiration, dtype: int64\n",
      "four    114\n",
      "two      87\n",
      "Name: number_of_doors, dtype: int64\n",
      "sedan          94\n",
      "hatchback      68\n",
      "wagon          25\n",
      "hardtop         8\n",
      "convertible     6\n",
      "Name: body_style, dtype: int64\n",
      "fwd    118\n",
      "rwd     75\n",
      "4wd      8\n",
      "Name: drive_wheels, dtype: int64\n",
      "front    198\n",
      "rear       3\n",
      "Name: engine_location, dtype: int64\n",
      "93.7     20\n",
      "94.5     19\n",
      "95.7     13\n",
      "96.5      8\n",
      "97.3      7\n",
      "100.4     6\n",
      "107.9     6\n",
      "99.1      6\n",
      "98.8      6\n",
      "98.4      6\n",
      "96.3      6\n",
      "104.3     6\n",
      "95.9      5\n",
      "93.1      5\n",
      "102.4     5\n",
      "109.1     5\n",
      "97.2      5\n",
      "97.0      4\n",
      "95.3      4\n",
      "114.2     4\n",
      "101.2     4\n",
      "103.5     3\n",
      "89.5      3\n",
      "105.8     3\n",
      "110.0     3\n",
      "96.9      2\n",
      "104.5     2\n",
      "96.1      2\n",
      "91.3      2\n",
      "102.9     2\n",
      "88.6      2\n",
      "113.0     2\n",
      "99.8      2\n",
      "103.3     2\n",
      "86.6      2\n",
      "115.6     2\n",
      "104.9     2\n",
      "95.1      1\n",
      "99.4      1\n",
      "88.4      1\n",
      "94.3      1\n",
      "96.0      1\n",
      "93.3      1\n",
      "102.0     1\n",
      "93.0      1\n",
      "106.7     1\n",
      "108.0     1\n",
      "96.6      1\n",
      "120.9     1\n",
      "99.2      1\n",
      "102.7     1\n",
      "112.0     1\n",
      "Name: wheel_base, dtype: int64\n",
      "157.3    15\n",
      "188.8    11\n",
      "171.7     7\n",
      "186.7     7\n",
      "166.3     7\n",
      "         ..\n",
      "165.6     1\n",
      "187.5     1\n",
      "180.3     1\n",
      "208.1     1\n",
      "199.2     1\n",
      "Name: length, Length: 73, dtype: int64\n",
      "63.8    24\n",
      "66.5    23\n",
      "65.4    15\n",
      "68.4    10\n",
      "64.4    10\n",
      "63.6     9\n",
      "64.0     9\n",
      "65.5     8\n",
      "65.2     7\n",
      "65.6     6\n",
      "67.2     6\n",
      "66.3     6\n",
      "64.2     6\n",
      "66.9     5\n",
      "68.9     4\n",
      "64.8     4\n",
      "65.7     4\n",
      "67.9     4\n",
      "71.7     3\n",
      "70.3     3\n",
      "65.0     3\n",
      "63.9     3\n",
      "71.4     3\n",
      "69.6     2\n",
      "66.1     2\n",
      "64.6     2\n",
      "68.3     2\n",
      "67.7     2\n",
      "64.1     2\n",
      "66.6     1\n",
      "63.4     1\n",
      "70.6     1\n",
      "68.0     1\n",
      "72.0     1\n",
      "70.5     1\n",
      "61.8     1\n",
      "66.0     1\n",
      "62.5     1\n",
      "60.3     1\n",
      "70.9     1\n",
      "66.4     1\n",
      "66.2     1\n",
      "68.8     1\n",
      "Name: width, dtype: int64\n",
      "50.8    14\n",
      "55.7    12\n",
      "54.1    10\n",
      "54.5    10\n",
      "55.5     9\n",
      "52.0     9\n",
      "56.7     8\n",
      "54.3     8\n",
      "52.6     7\n",
      "56.1     7\n",
      "51.6     7\n",
      "53.0     6\n",
      "52.8     6\n",
      "54.9     6\n",
      "50.2     6\n",
      "53.7     5\n",
      "55.1     5\n",
      "50.6     5\n",
      "49.6     4\n",
      "58.7     4\n",
      "53.3     4\n",
      "52.5     3\n",
      "59.1     3\n",
      "56.2     3\n",
      "49.7     3\n",
      "57.5     3\n",
      "53.5     3\n",
      "54.4     2\n",
      "53.9     2\n",
      "56.3     2\n",
      "59.8     2\n",
      "56.5     2\n",
      "54.7     2\n",
      "48.8     2\n",
      "49.4     2\n",
      "51.4     2\n",
      "54.8     1\n",
      "51.0     1\n",
      "55.4     1\n",
      "56.0     1\n",
      "55.2     1\n",
      "50.5     1\n",
      "53.2     1\n",
      "47.8     1\n",
      "55.9     1\n",
      "52.4     1\n",
      "55.6     1\n",
      "53.1     1\n",
      "58.3     1\n",
      "Name: height, dtype: int64\n",
      "2385    4\n",
      "1918    3\n",
      "2275    3\n",
      "1989    3\n",
      "2579    2\n",
      "       ..\n",
      "2004    1\n",
      "2370    1\n",
      "2328    1\n",
      "2833    1\n",
      "3062    1\n",
      "Name: curb_weight, Length: 169, dtype: int64\n",
      "ohc      145\n",
      "ohcf      15\n",
      "ohcv      13\n",
      "dohc      12\n",
      "l         12\n",
      "rotor      4\n",
      "Name: engine_type, dtype: int64\n",
      "four      157\n",
      "six        24\n",
      "five       10\n",
      "two         4\n",
      "eight       4\n",
      "three       1\n",
      "twelve      1\n",
      "Name: number_of_cylinders, dtype: int64\n",
      "122    15\n",
      "92     15\n",
      "98     14\n",
      "97     14\n",
      "108    13\n",
      "110    12\n",
      "90     10\n",
      "109     8\n",
      "141     7\n",
      "120     7\n",
      "146     6\n",
      "121     6\n",
      "152     6\n",
      "181     6\n",
      "91      5\n",
      "156     5\n",
      "136     5\n",
      "183     4\n",
      "130     4\n",
      "194     3\n",
      "171     3\n",
      "70      3\n",
      "164     3\n",
      "209     3\n",
      "132     2\n",
      "134     2\n",
      "234     2\n",
      "258     2\n",
      "140     2\n",
      "80      1\n",
      "173     1\n",
      "131     1\n",
      "161     1\n",
      "61      1\n",
      "111     1\n",
      "79      1\n",
      "151     1\n",
      "119     1\n",
      "103     1\n",
      "304     1\n",
      "308     1\n",
      "326     1\n",
      "145     1\n",
      "Name: engine_size, dtype: int64\n",
      "mpfi    92\n",
      "2bbl    64\n",
      "idi     20\n",
      "1bbl    11\n",
      "spdi     9\n",
      "4bbl     3\n",
      "mfi      1\n",
      "spfi     1\n",
      "Name: fuel_system, dtype: int64\n",
      "3.62    23\n",
      "3.19    20\n",
      "3.15    15\n",
      "2.97    12\n",
      "3.03    10\n",
      "3.46     9\n",
      "3.31     8\n",
      "3.78     8\n",
      "3.43     8\n",
      "3.27     7\n",
      "2.91     7\n",
      "3.39     6\n",
      "3.54     6\n",
      "3.05     6\n",
      "3.58     6\n",
      "3.70     5\n",
      "3.01     5\n",
      "3.35     4\n",
      "3.28     4\n",
      "3.17     3\n",
      "3.59     3\n",
      "3.74     3\n",
      "3.47     2\n",
      "3.24     2\n",
      "3.63     2\n",
      "3.50     2\n",
      "3.80     2\n",
      "3.33     2\n",
      "3.94     1\n",
      "3.13     1\n",
      "2.54     1\n",
      "3.08     1\n",
      "3.61     1\n",
      "3.34     1\n",
      "3.60     1\n",
      "2.92     1\n",
      "3.76     1\n",
      "2.68     1\n",
      "2.99     1\n",
      "Name: bore, dtype: int64\n",
      "3.40    19\n",
      "3.15    14\n",
      "3.03    14\n",
      "3.23    14\n",
      "3.39    13\n",
      "2.64    11\n",
      "3.50    10\n",
      "3.35     9\n",
      "3.29     9\n",
      "3.46     8\n",
      "3.27     6\n",
      "3.19     6\n",
      "3.41     6\n",
      "3.07     6\n",
      "3.58     6\n",
      "3.64     5\n",
      "3.52     5\n",
      "3.86     4\n",
      "3.47     4\n",
      "3.54     4\n",
      "2.90     3\n",
      "3.90     3\n",
      "3.11     3\n",
      "3.10     2\n",
      "3.08     2\n",
      "4.17     2\n",
      "2.19     2\n",
      "2.80     2\n",
      "2.68     2\n",
      "2.36     1\n",
      "3.16     1\n",
      "2.07     1\n",
      "3.21     1\n",
      "3.12     1\n",
      "2.76     1\n",
      "2.87     1\n",
      "Name: stroke, dtype: int64\n",
      "9.00     46\n",
      "9.40     26\n",
      "8.50     14\n",
      "9.50     13\n",
      "9.30     11\n",
      "8.70      9\n",
      "8.00      8\n",
      "9.20      8\n",
      "7.00      6\n",
      "8.60      5\n",
      "21.00     5\n",
      "8.40      5\n",
      "7.50      5\n",
      "23.00     5\n",
      "21.50     4\n",
      "7.60      4\n",
      "9.60      3\n",
      "22.50     3\n",
      "8.30      3\n",
      "8.80      3\n",
      "10.00     2\n",
      "7.70      2\n",
      "8.10      2\n",
      "9.10      1\n",
      "9.31      1\n",
      "7.80      1\n",
      "9.41      1\n",
      "21.90     1\n",
      "22.00     1\n",
      "22.70     1\n",
      "10.10     1\n",
      "11.50     1\n",
      "Name: compression_ratio, dtype: int64\n",
      "68     19\n",
      "69     10\n",
      "70      9\n",
      "116     9\n",
      "110     8\n",
      "95      7\n",
      "88      6\n",
      "62      6\n",
      "101     6\n",
      "114     6\n",
      "160     5\n",
      "90      5\n",
      "102     5\n",
      "145     5\n",
      "76      5\n",
      "82      5\n",
      "97      5\n",
      "84      5\n",
      "123     4\n",
      "111     4\n",
      "86      4\n",
      "92      4\n",
      "73      3\n",
      "207     3\n",
      "85      3\n",
      "182     3\n",
      "121     3\n",
      "152     3\n",
      "112     2\n",
      "56      2\n",
      "161     2\n",
      "94      2\n",
      "156     2\n",
      "52      2\n",
      "162     2\n",
      "155     2\n",
      "176     2\n",
      "184     2\n",
      "100     2\n",
      "55      1\n",
      "134     1\n",
      "115     1\n",
      "140     1\n",
      "48      1\n",
      "58      1\n",
      "60      1\n",
      "78      1\n",
      "262     1\n",
      "175     1\n",
      "135     1\n",
      "64      1\n",
      "120     1\n",
      "72      1\n",
      "154     1\n",
      "143     1\n",
      "142     1\n",
      "200     1\n",
      "106     1\n",
      "Name: horsepower, dtype: int64\n",
      "5500    38\n",
      "4800    36\n",
      "5000    27\n",
      "5200    23\n",
      "5400    11\n",
      "6000     9\n",
      "5800     7\n",
      "5250     7\n",
      "4500     7\n",
      "4150     5\n",
      "4200     5\n",
      "4350     4\n",
      "4750     4\n",
      "5100     3\n",
      "5900     3\n",
      "4250     3\n",
      "4400     3\n",
      "6600     2\n",
      "4650     1\n",
      "5600     1\n",
      "4900     1\n",
      "5300     1\n",
      "Name: peak_rpm, dtype: int64\n",
      "31    28\n",
      "19    27\n",
      "24    22\n",
      "27    14\n",
      "26    12\n",
      "17    12\n",
      "23    12\n",
      "21     8\n",
      "25     8\n",
      "30     8\n",
      "28     7\n",
      "37     6\n",
      "38     5\n",
      "16     5\n",
      "22     4\n",
      "29     3\n",
      "15     3\n",
      "20     3\n",
      "18     3\n",
      "14     2\n",
      "34     1\n",
      "35     1\n",
      "32     1\n",
      "36     1\n",
      "45     1\n",
      "13     1\n",
      "49     1\n",
      "47     1\n",
      "33     1\n",
      "Name: city_mpg, dtype: int64\n",
      "25    19\n",
      "38    17\n",
      "24    17\n",
      "30    16\n",
      "32    16\n",
      "34    14\n",
      "37    13\n",
      "28    12\n",
      "29    10\n",
      "33     9\n",
      "31     8\n",
      "22     7\n",
      "23     7\n",
      "27     5\n",
      "42     3\n",
      "26     3\n",
      "41     3\n",
      "19     2\n",
      "43     2\n",
      "39     2\n",
      "18     2\n",
      "16     2\n",
      "20     2\n",
      "36     2\n",
      "47     2\n",
      "46     2\n",
      "54     1\n",
      "17     1\n",
      "53     1\n",
      "50     1\n",
      "Name: highway_mpg, dtype: int64\n",
      "8921     2\n",
      "18150    2\n",
      "8845     2\n",
      "8495     2\n",
      "7609     2\n",
      "        ..\n",
      "45400    1\n",
      "16503    1\n",
      "5389     1\n",
      "6189     1\n",
      "22625    1\n",
      "Name: price, Length: 186, dtype: int64\n"
     ]
    }
   ],
   "source": [
    "#Seu Código aqui...\n",
    "for v2 in car_df:\n",
    "    print(car_df[v2].value_counts())"
   ]
  },
  {
   "cell_type": "code",
   "execution_count": 11,
   "metadata": {},
   "outputs": [
    {
     "data": {
      "text/plain": [
       "symboling              65\n",
       "normalized_losses       0\n",
       "make                    0\n",
       "fuel_type               0\n",
       "aspiration              0\n",
       "number_of_doors         0\n",
       "body_style              0\n",
       "drive_wheels            0\n",
       "engine_location         0\n",
       "wheel_base              0\n",
       "length                  0\n",
       "width                   0\n",
       "height                  0\n",
       "curb_weight             0\n",
       "engine_type             0\n",
       "number_of_cylinders     0\n",
       "engine_size             0\n",
       "fuel_system             0\n",
       "bore                    0\n",
       "stroke                  0\n",
       "compression_ratio       0\n",
       "horsepower              0\n",
       "peak_rpm                0\n",
       "city_mpg                0\n",
       "highway_mpg             0\n",
       "price                   0\n",
       "dtype: int64"
      ]
     },
     "execution_count": 11,
     "metadata": {},
     "output_type": "execute_result"
    }
   ],
   "source": [
    "# Análise caso existe valor 0 dentro do dataset\n",
    "car_df.where(car_df == 0 | car_df.isnull() | car_df.isna()).count()"
   ]
  },
  {
   "cell_type": "markdown",
   "metadata": {},
   "source": [
    "### __(BONUS: 1 ponto extra.)__ Análise de Outliers\n",
    "\n",
    "Realize a análise e o tratamento de **outliers**, como referência para estudo:\n",
    "\n",
    "* [link1](https://machinelearningmastery.com/model-based-outlier-detection-and-removal-in-python/)\n",
    "* [link2](https://towardsdatascience.com/4-machine-learning-techniques-for-outlier-detection-in-python-21e9cfacb81d)\n",
    "* [link3](https://minerandodados.com.br/tratando-outliers-python/)"
   ]
  },
  {
   "cell_type": "code",
   "execution_count": 12,
   "metadata": {},
   "outputs": [
    {
     "data": {
      "image/png": "[encoded data removed]",
      "text/plain": [
       "<Figure size 432x288 with 1 Axes>"
      ]
     },
     "metadata": {},
     "output_type": "display_data"
    }
   ],
   "source": [
    "#Seu Código aqui...\n",
    "sns.set(style=\"whitegrid\", color_codes=True)\n",
    "sns.boxplot(data=car_df['price']);"
   ]
  },
  {
   "cell_type": "code",
   "execution_count": 13,
   "metadata": {},
   "outputs": [
    {
     "name": "stdout",
     "output_type": "stream",
     "text": [
      "13207.129353233831\n",
      "7927.272870751161\n"
     ]
    }
   ],
   "source": [
    "mean = np.mean(car_df['price'], axis=0) #valor médio\n",
    "sd = np.std(car_df['price'], axis=0) #devio padrão\n",
    "print(mean)\n",
    "print(sd)"
   ]
  },
  {
   "cell_type": "code",
   "execution_count": 14,
   "metadata": {},
   "outputs": [
    {
     "data": {
      "text/plain": [
       "29061.67509473615"
      ]
     },
     "execution_count": 14,
     "metadata": {},
     "output_type": "execute_result"
    }
   ],
   "source": [
    "#Limite superior\n",
    "ls = mean + 2 * sd\n",
    "ls"
   ]
  },
  {
   "cell_type": "code",
   "execution_count": 15,
   "metadata": {},
   "outputs": [
    {
     "data": {
      "text/plain": [
       "2647.4163882684898"
      ]
     },
     "execution_count": 15,
     "metadata": {},
     "output_type": "execute_result"
    }
   ],
   "source": [
    "#Limite Inferior\n",
    "li = abs(mean - 2 *sd)\n",
    "li"
   ]
  },
  {
   "cell_type": "code",
   "execution_count": 16,
   "metadata": {},
   "outputs": [],
   "source": [
    "outliersSuperior=[]\n",
    "for x in car_df['price']:\n",
    "    if(x > ls):\n",
    "        outliersSuperior.append(x)"
   ]
  },
  {
   "cell_type": "code",
   "execution_count": 17,
   "metadata": {},
   "outputs": [],
   "source": [
    "outliersInferior=[]\n",
    "for x in car_df['price']:\n",
    "    if(x < li):\n",
    "        outliersInferior.append(x)"
   ]
  },
  {
   "cell_type": "code",
   "execution_count": 18,
   "metadata": {},
   "outputs": [
    {
     "data": {
      "text/plain": [
       "[30760,\n",
       " 41315,\n",
       " 36880,\n",
       " 32250,\n",
       " 35550,\n",
       " 36000,\n",
       " 31600,\n",
       " 34184,\n",
       " 35056,\n",
       " 40960,\n",
       " 45400,\n",
       " 32528,\n",
       " 34028,\n",
       " 37028]"
      ]
     },
     "execution_count": 18,
     "metadata": {},
     "output_type": "execute_result"
    }
   ],
   "source": [
    "outliersSuperior"
   ]
  },
  {
   "cell_type": "code",
   "execution_count": 19,
   "metadata": {},
   "outputs": [
    {
     "data": {
      "text/plain": [
       "[]"
      ]
     },
     "execution_count": 19,
     "metadata": {},
     "output_type": "execute_result"
    }
   ],
   "source": [
    "outliersInferior"
   ]
  },
  {
   "cell_type": "code",
   "execution_count": 20,
   "metadata": {},
   "outputs": [],
   "source": [
    "outliers=[]\n",
    "def find_outliers(data_set):\n",
    "    corte_dp = 2\n",
    "    media = np.mean(data_set)\n",
    "    print(media)\n",
    "    dp =np.std(data_set)\n",
    "    \n",
    "    \n",
    "    for dado in data_set:\n",
    "        z_score = (dado - media)/dp \n",
    "        \n",
    "        if np.abs(z_score) > corte_dp:\n",
    "            \n",
    "            outliers.append(dado)\n",
    "        \n",
    "    return outliers"
   ]
  },
  {
   "cell_type": "code",
   "execution_count": 21,
   "metadata": {},
   "outputs": [
    {
     "name": "stdout",
     "output_type": "stream",
     "text": [
      "13207.129353233831\n"
     ]
    },
    {
     "data": {
      "text/plain": [
       "[30760,\n",
       " 41315,\n",
       " 36880,\n",
       " 32250,\n",
       " 35550,\n",
       " 36000,\n",
       " 31600,\n",
       " 34184,\n",
       " 35056,\n",
       " 40960,\n",
       " 45400,\n",
       " 32528,\n",
       " 34028,\n",
       " 37028]"
      ]
     },
     "execution_count": 21,
     "metadata": {},
     "output_type": "execute_result"
    }
   ],
   "source": [
    "outliers = find_outliers(car_df['price'])\n",
    "outliers"
   ]
  },
  {
   "cell_type": "markdown",
   "metadata": {},
   "source": [
    "**Pergunta:** Foram localizados outliers? Qual o método de análise adotado? Se existe, como os dados foram tratados (removidos ou mantidos)? "
   ]
  },
  {
   "cell_type": "markdown",
   "metadata": {},
   "source": [
    "**Resposta:**\n",
    "\n",
    "Com base nos dados coletados foi identificado outlier superiores, como o dataframe é composto com diversificação de marcas para cada segmentos de público, não comprometendo a acurácia do dataframe, assim os dados serão mantidos. Para análise dos outliers a técnica utilizada foi aplicando conceitos como:\n",
    "<ul>\n",
    "    <li>Média é soma de todos os valores dividido pela quantidade dos mesmos;</li>\n",
    "    <li>Amplitude é a diferença do menor e do maior valor</li>\n",
    "    <li>Desvio Padrão é uma medida de dispersão que visa identificar o quanto o dataset é uniforme.</li>\n",
    "</ul>"
   ]
  },
  {
   "cell_type": "markdown",
   "metadata": {},
   "source": [
    "### Tratamento de dados Paramétricos\n",
    "\n",
    "Faça o tratamento dos atributos não numéricos. Descubra quais são os atributos não numéricos, faça a análise dos valores desses atributos e manipule de forma conveniente para ser interpretado como um dado numérico. "
   ]
  },
  {
   "cell_type": "code",
   "execution_count": 22,
   "metadata": {},
   "outputs": [
    {
     "name": "stderr",
     "output_type": "stream",
     "text": [
      "/Volumes/Arquivos/Projetos/jupyter/notebook/lib/python3.9/site-packages/category_encoders/utils.py:21: FutureWarning: is_categorical is deprecated and will be removed in a future version.  Use is_categorical_dtype instead\n",
      "  elif pd.api.types.is_categorical(cols):\n"
     ]
    }
   ],
   "source": [
    "import category_encoders as ce\n",
    "\n",
    "encoder = ce.OneHotEncoder(cols=['make', 'fuel_type', 'aspiration', 'number_of_doors', 'body_style', 'drive_wheels', 'engine_location', 'engine_type', 'number_of_cylinders', 'fuel_system'])\n",
    "\n",
    "encode_df = encoder.fit_transform(car_df)\n",
    "\n",
    "\n",
    "    "
   ]
  },
  {
   "cell_type": "code",
   "execution_count": 23,
   "metadata": {},
   "outputs": [
    {
     "data": {
      "text/html": [
       "<div>\n",
       "<style scoped>\n",
       "    .dataframe tbody tr th:only-of-type {\n",
       "        vertical-align: middle;\n",
       "    }\n",
       "\n",
       "    .dataframe tbody tr th {\n",
       "        vertical-align: top;\n",
       "    }\n",
       "\n",
       "    .dataframe thead th {\n",
       "        text-align: right;\n",
       "    }\n",
       "</style>\n",
       "<table border=\"1\" class=\"dataframe\">\n",
       "  <thead>\n",
       "    <tr style=\"text-align: right;\">\n",
       "      <th></th>\n",
       "      <th>symboling</th>\n",
       "      <th>normalized_losses</th>\n",
       "      <th>make_1</th>\n",
       "      <th>make_2</th>\n",
       "      <th>make_3</th>\n",
       "      <th>make_4</th>\n",
       "      <th>make_5</th>\n",
       "      <th>make_6</th>\n",
       "      <th>make_7</th>\n",
       "      <th>make_8</th>\n",
       "      <th>...</th>\n",
       "      <th>fuel_system_7</th>\n",
       "      <th>fuel_system_8</th>\n",
       "      <th>bore</th>\n",
       "      <th>stroke</th>\n",
       "      <th>compression_ratio</th>\n",
       "      <th>horsepower</th>\n",
       "      <th>peak_rpm</th>\n",
       "      <th>city_mpg</th>\n",
       "      <th>highway_mpg</th>\n",
       "      <th>price</th>\n",
       "    </tr>\n",
       "  </thead>\n",
       "  <tbody>\n",
       "    <tr>\n",
       "      <th>0</th>\n",
       "      <td>3</td>\n",
       "      <td>168</td>\n",
       "      <td>1</td>\n",
       "      <td>0</td>\n",
       "      <td>0</td>\n",
       "      <td>0</td>\n",
       "      <td>0</td>\n",
       "      <td>0</td>\n",
       "      <td>0</td>\n",
       "      <td>0</td>\n",
       "      <td>...</td>\n",
       "      <td>0</td>\n",
       "      <td>0</td>\n",
       "      <td>3.47</td>\n",
       "      <td>2.68</td>\n",
       "      <td>9.0</td>\n",
       "      <td>111</td>\n",
       "      <td>5000</td>\n",
       "      <td>21</td>\n",
       "      <td>27</td>\n",
       "      <td>13495</td>\n",
       "    </tr>\n",
       "    <tr>\n",
       "      <th>1</th>\n",
       "      <td>3</td>\n",
       "      <td>168</td>\n",
       "      <td>1</td>\n",
       "      <td>0</td>\n",
       "      <td>0</td>\n",
       "      <td>0</td>\n",
       "      <td>0</td>\n",
       "      <td>0</td>\n",
       "      <td>0</td>\n",
       "      <td>0</td>\n",
       "      <td>...</td>\n",
       "      <td>0</td>\n",
       "      <td>0</td>\n",
       "      <td>3.47</td>\n",
       "      <td>2.68</td>\n",
       "      <td>9.0</td>\n",
       "      <td>111</td>\n",
       "      <td>5000</td>\n",
       "      <td>21</td>\n",
       "      <td>27</td>\n",
       "      <td>16500</td>\n",
       "    </tr>\n",
       "    <tr>\n",
       "      <th>2</th>\n",
       "      <td>1</td>\n",
       "      <td>168</td>\n",
       "      <td>1</td>\n",
       "      <td>0</td>\n",
       "      <td>0</td>\n",
       "      <td>0</td>\n",
       "      <td>0</td>\n",
       "      <td>0</td>\n",
       "      <td>0</td>\n",
       "      <td>0</td>\n",
       "      <td>...</td>\n",
       "      <td>0</td>\n",
       "      <td>0</td>\n",
       "      <td>2.68</td>\n",
       "      <td>3.47</td>\n",
       "      <td>9.0</td>\n",
       "      <td>154</td>\n",
       "      <td>5000</td>\n",
       "      <td>19</td>\n",
       "      <td>26</td>\n",
       "      <td>16500</td>\n",
       "    </tr>\n",
       "    <tr>\n",
       "      <th>3</th>\n",
       "      <td>2</td>\n",
       "      <td>164</td>\n",
       "      <td>0</td>\n",
       "      <td>1</td>\n",
       "      <td>0</td>\n",
       "      <td>0</td>\n",
       "      <td>0</td>\n",
       "      <td>0</td>\n",
       "      <td>0</td>\n",
       "      <td>0</td>\n",
       "      <td>...</td>\n",
       "      <td>0</td>\n",
       "      <td>0</td>\n",
       "      <td>3.19</td>\n",
       "      <td>3.40</td>\n",
       "      <td>10.0</td>\n",
       "      <td>102</td>\n",
       "      <td>5500</td>\n",
       "      <td>24</td>\n",
       "      <td>30</td>\n",
       "      <td>13950</td>\n",
       "    </tr>\n",
       "    <tr>\n",
       "      <th>4</th>\n",
       "      <td>2</td>\n",
       "      <td>164</td>\n",
       "      <td>0</td>\n",
       "      <td>1</td>\n",
       "      <td>0</td>\n",
       "      <td>0</td>\n",
       "      <td>0</td>\n",
       "      <td>0</td>\n",
       "      <td>0</td>\n",
       "      <td>0</td>\n",
       "      <td>...</td>\n",
       "      <td>0</td>\n",
       "      <td>0</td>\n",
       "      <td>3.19</td>\n",
       "      <td>3.40</td>\n",
       "      <td>8.0</td>\n",
       "      <td>115</td>\n",
       "      <td>5500</td>\n",
       "      <td>18</td>\n",
       "      <td>22</td>\n",
       "      <td>17450</td>\n",
       "    </tr>\n",
       "    <tr>\n",
       "      <th>...</th>\n",
       "      <td>...</td>\n",
       "      <td>...</td>\n",
       "      <td>...</td>\n",
       "      <td>...</td>\n",
       "      <td>...</td>\n",
       "      <td>...</td>\n",
       "      <td>...</td>\n",
       "      <td>...</td>\n",
       "      <td>...</td>\n",
       "      <td>...</td>\n",
       "      <td>...</td>\n",
       "      <td>...</td>\n",
       "      <td>...</td>\n",
       "      <td>...</td>\n",
       "      <td>...</td>\n",
       "      <td>...</td>\n",
       "      <td>...</td>\n",
       "      <td>...</td>\n",
       "      <td>...</td>\n",
       "      <td>...</td>\n",
       "      <td>...</td>\n",
       "    </tr>\n",
       "    <tr>\n",
       "      <th>196</th>\n",
       "      <td>-1</td>\n",
       "      <td>95</td>\n",
       "      <td>0</td>\n",
       "      <td>0</td>\n",
       "      <td>0</td>\n",
       "      <td>0</td>\n",
       "      <td>0</td>\n",
       "      <td>0</td>\n",
       "      <td>0</td>\n",
       "      <td>0</td>\n",
       "      <td>...</td>\n",
       "      <td>0</td>\n",
       "      <td>0</td>\n",
       "      <td>3.78</td>\n",
       "      <td>3.15</td>\n",
       "      <td>9.5</td>\n",
       "      <td>114</td>\n",
       "      <td>5400</td>\n",
       "      <td>23</td>\n",
       "      <td>28</td>\n",
       "      <td>16845</td>\n",
       "    </tr>\n",
       "    <tr>\n",
       "      <th>197</th>\n",
       "      <td>-1</td>\n",
       "      <td>95</td>\n",
       "      <td>0</td>\n",
       "      <td>0</td>\n",
       "      <td>0</td>\n",
       "      <td>0</td>\n",
       "      <td>0</td>\n",
       "      <td>0</td>\n",
       "      <td>0</td>\n",
       "      <td>0</td>\n",
       "      <td>...</td>\n",
       "      <td>0</td>\n",
       "      <td>0</td>\n",
       "      <td>3.78</td>\n",
       "      <td>3.15</td>\n",
       "      <td>8.7</td>\n",
       "      <td>160</td>\n",
       "      <td>5300</td>\n",
       "      <td>19</td>\n",
       "      <td>25</td>\n",
       "      <td>19045</td>\n",
       "    </tr>\n",
       "    <tr>\n",
       "      <th>198</th>\n",
       "      <td>-1</td>\n",
       "      <td>95</td>\n",
       "      <td>0</td>\n",
       "      <td>0</td>\n",
       "      <td>0</td>\n",
       "      <td>0</td>\n",
       "      <td>0</td>\n",
       "      <td>0</td>\n",
       "      <td>0</td>\n",
       "      <td>0</td>\n",
       "      <td>...</td>\n",
       "      <td>0</td>\n",
       "      <td>0</td>\n",
       "      <td>3.58</td>\n",
       "      <td>2.87</td>\n",
       "      <td>8.8</td>\n",
       "      <td>134</td>\n",
       "      <td>5500</td>\n",
       "      <td>18</td>\n",
       "      <td>23</td>\n",
       "      <td>21485</td>\n",
       "    </tr>\n",
       "    <tr>\n",
       "      <th>199</th>\n",
       "      <td>-1</td>\n",
       "      <td>95</td>\n",
       "      <td>0</td>\n",
       "      <td>0</td>\n",
       "      <td>0</td>\n",
       "      <td>0</td>\n",
       "      <td>0</td>\n",
       "      <td>0</td>\n",
       "      <td>0</td>\n",
       "      <td>0</td>\n",
       "      <td>...</td>\n",
       "      <td>1</td>\n",
       "      <td>0</td>\n",
       "      <td>3.01</td>\n",
       "      <td>3.40</td>\n",
       "      <td>23.0</td>\n",
       "      <td>106</td>\n",
       "      <td>4800</td>\n",
       "      <td>26</td>\n",
       "      <td>27</td>\n",
       "      <td>22470</td>\n",
       "    </tr>\n",
       "    <tr>\n",
       "      <th>200</th>\n",
       "      <td>-1</td>\n",
       "      <td>95</td>\n",
       "      <td>0</td>\n",
       "      <td>0</td>\n",
       "      <td>0</td>\n",
       "      <td>0</td>\n",
       "      <td>0</td>\n",
       "      <td>0</td>\n",
       "      <td>0</td>\n",
       "      <td>0</td>\n",
       "      <td>...</td>\n",
       "      <td>0</td>\n",
       "      <td>0</td>\n",
       "      <td>3.78</td>\n",
       "      <td>3.15</td>\n",
       "      <td>9.5</td>\n",
       "      <td>114</td>\n",
       "      <td>5400</td>\n",
       "      <td>19</td>\n",
       "      <td>25</td>\n",
       "      <td>22625</td>\n",
       "    </tr>\n",
       "  </tbody>\n",
       "</table>\n",
       "<p>201 rows × 75 columns</p>\n",
       "</div>"
      ],
      "text/plain": [
       "     symboling  normalized_losses  make_1  make_2  make_3  make_4  make_5  \\\n",
       "0            3                168       1       0       0       0       0   \n",
       "1            3                168       1       0       0       0       0   \n",
       "2            1                168       1       0       0       0       0   \n",
       "3            2                164       0       1       0       0       0   \n",
       "4            2                164       0       1       0       0       0   \n",
       "..         ...                ...     ...     ...     ...     ...     ...   \n",
       "196         -1                 95       0       0       0       0       0   \n",
       "197         -1                 95       0       0       0       0       0   \n",
       "198         -1                 95       0       0       0       0       0   \n",
       "199         -1                 95       0       0       0       0       0   \n",
       "200         -1                 95       0       0       0       0       0   \n",
       "\n",
       "     make_6  make_7  make_8  ...  fuel_system_7  fuel_system_8  bore  stroke  \\\n",
       "0         0       0       0  ...              0              0  3.47    2.68   \n",
       "1         0       0       0  ...              0              0  3.47    2.68   \n",
       "2         0       0       0  ...              0              0  2.68    3.47   \n",
       "3         0       0       0  ...              0              0  3.19    3.40   \n",
       "4         0       0       0  ...              0              0  3.19    3.40   \n",
       "..      ...     ...     ...  ...            ...            ...   ...     ...   \n",
       "196       0       0       0  ...              0              0  3.78    3.15   \n",
       "197       0       0       0  ...              0              0  3.78    3.15   \n",
       "198       0       0       0  ...              0              0  3.58    2.87   \n",
       "199       0       0       0  ...              1              0  3.01    3.40   \n",
       "200       0       0       0  ...              0              0  3.78    3.15   \n",
       "\n",
       "     compression_ratio  horsepower  peak_rpm  city_mpg  highway_mpg  price  \n",
       "0                  9.0         111      5000        21           27  13495  \n",
       "1                  9.0         111      5000        21           27  16500  \n",
       "2                  9.0         154      5000        19           26  16500  \n",
       "3                 10.0         102      5500        24           30  13950  \n",
       "4                  8.0         115      5500        18           22  17450  \n",
       "..                 ...         ...       ...       ...          ...    ...  \n",
       "196                9.5         114      5400        23           28  16845  \n",
       "197                8.7         160      5300        19           25  19045  \n",
       "198                8.8         134      5500        18           23  21485  \n",
       "199               23.0         106      4800        26           27  22470  \n",
       "200                9.5         114      5400        19           25  22625  \n",
       "\n",
       "[201 rows x 75 columns]"
      ]
     },
     "execution_count": 23,
     "metadata": {},
     "output_type": "execute_result"
    }
   ],
   "source": [
    "encode_df"
   ]
  },
  {
   "cell_type": "markdown",
   "metadata": {},
   "source": [
    "**Pergunta:** Quais são os atributos não numéricos? Qual o método de análise adotado? Por que esse essa escolha? "
   ]
  },
  {
   "cell_type": "markdown",
   "metadata": {},
   "source": [
    "**Resposta:**\n",
    "Os atributos não numéricos são:\n",
    "<ul>\n",
    "    <li>make</li>\n",
    "    <li>fuel_type</li>\n",
    "    <li>aspiration</li>\n",
    "    <li>body_style</li>\n",
    "    <li>drive_wheels</li>\n",
    "    <li>engine_location</li>\n",
    "    <li>engine_type</li>\n",
    "    <li>number_of_cylinders</li>\n",
    "    <li>fuel_system</li>\n",
    "    <li>number_of_doors</li>\n",
    "</ul>\n",
    "Método utilizado para classificação dos atributos\n",
    "\n",
    "```{code-cell} ipython3\n",
    "car_df.info()\n",
    "```\n",
    "\n",
    "Definimos a escolha dele pois classifica de maneira clara os dados contidos no dataset"
   ]
  },
  {
   "cell_type": "markdown",
   "metadata": {},
   "source": [
    "## 3. Desenvolvimento do Modelo"
   ]
  },
  {
   "cell_type": "markdown",
   "metadata": {},
   "source": [
    "**Pergunta:** O conjunto de dados indica a aplicação de qual modelo de aprendizagem de maquina para a determinação do preço de carro? Por que ? "
   ]
  },
  {
   "cell_type": "markdown",
   "metadata": {},
   "source": [
    "**Resposta:**\n",
    "\n",
    "    [ ] Aprendizado por reforço\n",
    "    [X] Aprendizado supervisionado\n",
    "    [ ] Aprendizado não supervisionado\n",
    "<hr>\n",
    "<p>\n",
    "    A aplicação do aprendizado supervisionado para determininação do preço do carro, pois temos um datasets com dados rotulados e já temos claro qual nosso saída de dado (price), mantendo a relação de variável dependente com os rótulos independentes com intuíto da predicação do valor final do veículo.\n",
    "</p>\n",
    "   "
   ]
  },
  {
   "cell_type": "markdown",
   "metadata": {},
   "source": [
    "**Pergunta:** Qual a técnica sugerida para este projeto?"
   ]
  },
  {
   "cell_type": "markdown",
   "metadata": {},
   "source": [
    "**Resposta:**\n",
    "\n",
    "    [X] Regressão\n",
    "    [ ] Classificação\n",
    "    [ ] Clusterização"
   ]
  },
  {
   "cell_type": "markdown",
   "metadata": {},
   "source": [
    "**Pergunta:** Escolha 3 modelos de algoritmos para testar a performance de cada um deles."
   ]
  },
  {
   "cell_type": "markdown",
   "metadata": {},
   "source": [
    "**Resposta:**\n",
    "\n",
    "1. algoritimo : LinearRegression\n",
    "2. algoritimo : GradientBoostingRegressor\n",
    "3. algoritimo : KNeighborsRegressor\n"
   ]
  },
  {
   "cell_type": "markdown",
   "metadata": {},
   "source": [
    "**Pergunta:** Explique como cada algoritmo funciona.\n",
    "\n"
   ]
  },
  {
   "cell_type": "markdown",
   "metadata": {},
   "source": [
    "**Resposta:**\n",
    "\n",
    "1. LinearRegression: Linear Regression funciona de forma a traçar um reta que com base no cálculo para minimizar a soma residual dos quadrados entre os alvos observados no conjunto de dados e os alvos previstos pela aproximação linear, após várias tentativas de diminuir a soma residual é definida aquele de dizer menor soma residual para todas as marcações do dataframe.\n",
    "2. GradientBoostingRegressor: Ele inícia utilizando árvores de decisão como base porém a árvore funciona muito bem quando usamos dados para criar as árvores, porém não são flexíveis o suficiente para classificar novas amostras de dados, utilizando assim o Random Forest para auxiliar nessa necessidade, más antes de iniciar a classificação é necessário utilizar amostra de bootstrap criando várias árvores com um sub conjuntos de variáveis de ramificações aleatórias com base nos dados de um tupla do dataset repetindo até o fim do dataset, assim criando diversas Random Forest, com base na etapa anterior AdaBoost responsável pelo criar stumps que tem propriedades de serem baseados no stump anterior e alguns acabam se destacando na classificação, assim criando um base igualdade para todos os stump(1/n), por fim a utilização gradient boost em conjunto com todas as libs consistem em aumentar o gradient inicializando uma folha de dado da stump representando uma estimativa inicial dos dados classificados pelo adaboost, ela inicia utilizando valor médio aumentando o gradiente ela constrói um árvore baseando-se nos erros de cometidos na etapa anterior, assim conseguindo criar árvores maiores que o stump e fazendo o ciclo com base na anterior, assim utilizando as novas árvores para prever os valores.\n",
    "3. KNeighborsRegressor: É um algoritmo de reconhecimento de padrão podemos utilizar tanto em regressão quanto em classificação consiste pegar o k conjunto utilizando a classificação espaço de features entre seus neighbors"
   ]
  },
  {
   "cell_type": "markdown",
   "metadata": {},
   "source": [
    "Crie um subset dos dados apenas com os atributos que serão utilizados para o treinameno e teste do modelo."
   ]
  },
  {
   "cell_type": "code",
   "execution_count": 10,
   "metadata": {},
   "outputs": [],
   "source": [
    "df = car_df[['horsepower', 'curb_weight', 'engine_size', 'highway_mpg','bore','stroke', 'compression_ratio', 'price']]\n",
    "\n",
    "y = df['price']\n",
    "X = df.drop(['price'],axis=1)"
   ]
  },
  {
   "cell_type": "code",
   "execution_count": 11,
   "metadata": {},
   "outputs": [
    {
     "data": {
      "text/plain": [
       "((160, 7), (41, 7), (160,), (41,))"
      ]
     },
     "execution_count": 11,
     "metadata": {},
     "output_type": "execute_result"
    }
   ],
   "source": [
    "from sklearn.model_selection import train_test_split\n",
    "\n",
    "X_train, X_test, y_train, y_test = train_test_split(X,y, test_size = 0.2, random_state = 0)\n",
    "\n",
    "X_train.shape, X_test.shape, y_train.shape, y_test.shape"
   ]
  },
  {
   "cell_type": "markdown",
   "metadata": {},
   "source": [
    "Divida o subset em conjunto de treinamento e teste."
   ]
  },
  {
   "cell_type": "markdown",
   "metadata": {},
   "source": [
    "## 4. Treinamento e teste do modelo\n",
    "\n",
    "Faça o treinamento e teste de dos 3 algoritmos escolhidos. Para cada um dos modelos utilize uma das métricas: R2-score, RMSE e MAE para avaliar a performance dos medelos. Utilize a média do obtido da validação cruzada para um kfold de 5."
   ]
  },
  {
   "cell_type": "markdown",
   "metadata": {},
   "source": [
    "### Algoritmo 1"
   ]
  },
  {
   "cell_type": "code",
   "execution_count": 12,
   "metadata": {},
   "outputs": [],
   "source": [
    "from sklearn.linear_model import LinearRegression\n",
    "from sklearn.metrics import r2_score as r2s\n",
    "\n",
    "lr = LinearRegression()\n",
    "lr.fit(X_train,y_train)\n",
    "pred_1 = lr.predict(X_test)\n",
    "score_1 = r2s( y_test, pred_1 )"
   ]
  },
  {
   "cell_type": "code",
   "execution_count": 13,
   "metadata": {},
   "outputs": [
    {
     "data": {
      "text/plain": [
       "0.7720593039790229"
      ]
     },
     "execution_count": 13,
     "metadata": {},
     "output_type": "execute_result"
    }
   ],
   "source": [
    "score_1"
   ]
  },
  {
   "cell_type": "code",
   "execution_count": 14,
   "metadata": {},
   "outputs": [
    {
     "data": {
      "image/png": "[encoded data removed]",
      "text/plain": [
       "<Figure size 432x288 with 1 Axes>"
      ]
     },
     "metadata": {},
     "output_type": "display_data"
    }
   ],
   "source": [
    "sns.set_theme(color_codes=True)\n",
    "gra = sns.regplot(x=y_test,y=pred_1, scatter_kws={\"s\": 20}, truncate=False)"
   ]
  },
  {
   "cell_type": "code",
   "execution_count": 15,
   "metadata": {},
   "outputs": [
    {
     "data": {
      "text/plain": [
       "KFold(n_splits=5, random_state=None, shuffle=False)"
      ]
     },
     "execution_count": 15,
     "metadata": {},
     "output_type": "execute_result"
    }
   ],
   "source": [
    "from sklearn.model_selection import KFold\n",
    "from sklearn.model_selection import cross_val_score\n",
    "\n",
    "kf = KFold(n_splits=5)\n",
    "kf"
   ]
  },
  {
   "cell_type": "code",
   "execution_count": 16,
   "metadata": {},
   "outputs": [
    {
     "name": "stdout",
     "output_type": "stream",
     "text": [
      "K-Fold (R^2) Scores: [0.69382184 0.83497922 0.81535379 0.72820875 0.70937126]\n",
      "Mean R^2 for Cross-Validation K-Fold: 0.7563469728192527\n"
     ]
    }
   ],
   "source": [
    "kfold  = KFold(n_splits=5, shuffle=True) # shuffle = True embaralhar \n",
    "result = cross_val_score(lr, X_train, y_train, cv = kfold)\n",
    "\n",
    "print(\"K-Fold (R^2) Scores: {0}\".format(result))\n",
    "print(\"Mean R^2 for Cross-Validation K-Fold: {0}\".format(result.mean()))"
   ]
  },
  {
   "cell_type": "markdown",
   "metadata": {},
   "source": [
    "### Algoritmo 2"
   ]
  },
  {
   "cell_type": "code",
   "execution_count": 17,
   "metadata": {},
   "outputs": [],
   "source": [
    "#Seu Código aqui...\n",
    "from sklearn.ensemble import GradientBoostingRegressor\n",
    "from sklearn.metrics import r2_score as r2s\n",
    "\n",
    "gbr = GradientBoostingRegressor()\n",
    "gbr.fit(X_train,y_train)\n",
    "pred_2 = gbr.predict(X_test)\n",
    "score_2= r2s(y_test,pred_2)"
   ]
  },
  {
   "cell_type": "code",
   "execution_count": 18,
   "metadata": {},
   "outputs": [
    {
     "data": {
      "text/plain": [
       "0.9319372478217485"
      ]
     },
     "execution_count": 18,
     "metadata": {},
     "output_type": "execute_result"
    }
   ],
   "source": [
    "score_2"
   ]
  },
  {
   "cell_type": "code",
   "execution_count": 19,
   "metadata": {},
   "outputs": [
    {
     "data": {
      "image/png": "[encoded data removed]",
      "text/plain": [
       "<Figure size 432x288 with 1 Axes>"
      ]
     },
     "metadata": {},
     "output_type": "display_data"
    }
   ],
   "source": [
    "grb = sns.regplot(x = y_test,y = pred_2, color=\"g\", scatter_kws={\"s\": 20}, truncate=False)\n"
   ]
  },
  {
   "cell_type": "code",
   "execution_count": 20,
   "metadata": {},
   "outputs": [
    {
     "name": "stdout",
     "output_type": "stream",
     "text": [
      "K-Fold (R^2) Scores: [0.87418065 0.9654054  0.87594612 0.88962867 0.82110218]\n",
      "Mean R^2 for Cross-Validation K-Fold: 0.885252603328834\n"
     ]
    }
   ],
   "source": [
    "kfold  = KFold(n_splits=5, shuffle=True) # shuffle = True embaralhar \n",
    "result = cross_val_score(gbr, X_train, y_train, cv = kfold)\n",
    "\n",
    "print(\"K-Fold (R^2) Scores: {0}\".format(result))\n",
    "print(\"Mean R^2 for Cross-Validation K-Fold: {0}\".format(result.mean()))"
   ]
  },
  {
   "cell_type": "markdown",
   "metadata": {},
   "source": [
    "### Algoritmo 3"
   ]
  },
  {
   "cell_type": "code",
   "execution_count": 21,
   "metadata": {},
   "outputs": [],
   "source": [
    "#Seu Código aqui...\n",
    "from sklearn.neighbors import KNeighborsRegressor\n",
    "from sklearn.metrics import r2_score as r2s\n",
    "\n",
    "neigh = KNeighborsRegressor(n_neighbors=2)\n",
    "neigh.fit(X_train, y_train)\n",
    "pred_3 = neigh.predict(X_test)\n",
    "score_3=r2s(y_test,pred_3)"
   ]
  },
  {
   "cell_type": "code",
   "execution_count": 22,
   "metadata": {},
   "outputs": [
    {
     "name": "stdout",
     "output_type": "stream",
     "text": [
      "0.7018284632178863\n"
     ]
    }
   ],
   "source": [
    "print(score_3)"
   ]
  },
  {
   "cell_type": "code",
   "execution_count": 23,
   "metadata": {},
   "outputs": [
    {
     "data": {
      "image/png": "[encoded data removed]",
      "text/plain": [
       "<Figure size 432x288 with 1 Axes>"
      ]
     },
     "metadata": {},
     "output_type": "display_data"
    }
   ],
   "source": [
    "grc = sns.regplot(x = y_test,y = pred_3, color=\"y\", scatter_kws={\"s\": 20}, truncate=False)\n"
   ]
  },
  {
   "cell_type": "code",
   "execution_count": 24,
   "metadata": {},
   "outputs": [
    {
     "name": "stdout",
     "output_type": "stream",
     "text": [
      "K-Fold (R^2) Scores: [0.70762255 0.4732488  0.47866811 0.88644953 0.82699646]\n",
      "Mean R^2 for Cross-Validation K-Fold: 0.6745970909349233\n"
     ]
    }
   ],
   "source": [
    "kfold  = KFold(n_splits=5, shuffle=True) # shuffle = True embaralhar \n",
    "result = cross_val_score(neigh, X_train, y_train, cv = kfold)\n",
    "\n",
    "print(\"K-Fold (R^2) Scores: {0}\".format(result))\n",
    "print(\"Mean R^2 for Cross-Validation K-Fold: {0}\".format(result.mean()))"
   ]
  },
  {
   "cell_type": "markdown",
   "metadata": {},
   "source": [
    "**Pergunta:** Qual foi a performance de cada algoritmo? Explique os resultados e detalhe como a característica de cada algoritmo influenciou no resultado.\n",
    "\n",
    "**Resposta:**\n",
    "<p>\n",
    "Um primeiro teve score inicial consistênte porém ao utilizar o kfold distuou da analise, já no segundo algoritmo teve uma acurácia alta de 0.9346 más logo calculando kfold médio de 0.8687 baseado em cada kfold score, no KNN obtivemos o score de 0.7018 e aplicando KFold atingimos o valor de 0.90004\n",
    "</p>\n",
    "Acredito que o KNN se destacou mais por conta do algoritmo de quando separa por cinco partes iguais o grande volume de dados estar situado próximo entre si assim não distuando demais respeita as regras do algoritmo, agora como GradientBoostingRegressor que utiliza AdaBoost que são resultado que Decision trees e Random Forest em conjunto que necessáriamente para construção de dados necessidade da uma árvore anterior para atingir os resultados, quando fatiamos em bases menores a precisão em alguns casos acaba diminuindo, assim afetando o resultado final."
   ]
  },
  {
   "cell_type": "markdown",
   "metadata": {},
   "source": [
    "## 5. Validação e Otimização do Modelo\n",
    "\n",
    "Faça a otimização dos modelos, tunning dos hiperparametros, utilize técinicas como **RandomSearchCV** ou **GridSearchCV**."
   ]
  },
  {
   "cell_type": "markdown",
   "metadata": {},
   "source": [
    "**Pergunta:** Qual a técnica escolhida? Por que?\n",
    "\n",
    "**Resposta:**\n",
    "A técnica definida foi GridSearchCV, como o algoritmo tem como base \"implements “score_samples”, “predict”, “predict_proba”, “decision_function”, “transform” and “inverse_transform\" e nosso objetivo e identificar os valores price dos veículos, e o GridSerachCV é utiliza muito em conjuntos de algoritmo de classificação como durante nosso processo implementamos a técnica de regrassão optamos pelo GridSerachCV."
   ]
  },
  {
   "cell_type": "markdown",
   "metadata": {},
   "source": [
    "### Algoritmo 1"
   ]
  },
  {
   "cell_type": "code",
   "execution_count": 43,
   "metadata": {},
   "outputs": [
    {
     "data": {
      "text/plain": [
       "GridSearchCV(cv=5, estimator=LinearRegression(), n_jobs=4,\n",
       "             param_grid={'min_samples_leaf': [1, 2],\n",
       "                         'min_samples_split': [2, 5],\n",
       "                         'n_estimators': [1, 10, 100, 1000]},\n",
       "             verbose=2)"
      ]
     },
     "execution_count": 43,
     "metadata": {},
     "output_type": "execute_result"
    }
   ],
   "source": [
    "from sklearn.model_selection import GridSearchCV\n",
    "linear = LinearRegression()\n",
    "\n",
    "param={'n_estimators': [1, 10, 100, 1000],\n",
    "              'min_samples_split': [2, 5],\n",
    "               'min_samples_leaf': [1, 2],}\n",
    "\n",
    "linear_result = GridSearchCV(estimator = linear, param_grid = param, cv = 5, verbose=2, n_jobs = 4)\n",
    "\n",
    "linear_result\n"
   ]
  },
  {
   "cell_type": "code",
   "execution_count": 26,
   "metadata": {},
   "outputs": [
    {
     "data": {
      "text/plain": [
       "dict_keys(['copy_X', 'fit_intercept', 'n_jobs', 'normalize', 'positive'])"
      ]
     },
     "execution_count": 26,
     "metadata": {},
     "output_type": "execute_result"
    }
   ],
   "source": [
    "linear.get_params().keys()"
   ]
  },
  {
   "cell_type": "code",
   "execution_count": 46,
   "metadata": {},
   "outputs": [
    {
     "ename": "AttributeError",
     "evalue": "'GridSearchCV' object has no attribute 'best_params_'",
     "output_type": "error",
     "traceback": [
      "\u001b[0;31m---------------------------------------------------------------------------\u001b[0m",
      "\u001b[0;31mAttributeError\u001b[0m                            Traceback (most recent call last)",
      "\u001b[0;32m/var/folders/mj/89p3kmfs06x0nym2pz8xryz40000gn/T/ipykernel_2777/2971626721.py\u001b[0m in \u001b[0;36m<module>\u001b[0;34m\u001b[0m\n\u001b[0;32m----> 1\u001b[0;31m \u001b[0mlinear_result\u001b[0m\u001b[0;34m.\u001b[0m\u001b[0mbest_params_\u001b[0m\u001b[0;34m\u001b[0m\u001b[0;34m\u001b[0m\u001b[0m\n\u001b[0m",
      "\u001b[0;31mAttributeError\u001b[0m: 'GridSearchCV' object has no attribute 'best_params_'"
     ]
    }
   ],
   "source": [
    "linear_result.best_params_"
   ]
  },
  {
   "cell_type": "markdown",
   "metadata": {},
   "source": [
    "### Algoritmo 2"
   ]
  },
  {
   "cell_type": "code",
   "execution_count": 27,
   "metadata": {},
   "outputs": [],
   "source": [
    "from sklearn.model_selection import GridSearchCV\n",
    "gradient = GradientBoostingRegressor()\n",
    "\n",
    "param = {'n_estimators': [1, 10, 100, 1000]}\n",
    "\n",
    "gradient_result = GridSearchCV(estimator = gradient, param_grid = param, cv = 5, verbose=2, n_jobs = 4)"
   ]
  },
  {
   "cell_type": "code",
   "execution_count": 28,
   "metadata": {},
   "outputs": [
    {
     "data": {
      "text/plain": [
       "dict_keys(['alpha', 'ccp_alpha', 'criterion', 'init', 'learning_rate', 'loss', 'max_depth', 'max_features', 'max_leaf_nodes', 'min_impurity_decrease', 'min_impurity_split', 'min_samples_leaf', 'min_samples_split', 'min_weight_fraction_leaf', 'n_estimators', 'n_iter_no_change', 'random_state', 'subsample', 'tol', 'validation_fraction', 'verbose', 'warm_start'])"
      ]
     },
     "execution_count": 28,
     "metadata": {},
     "output_type": "execute_result"
    }
   ],
   "source": [
    "gradient.get_params().keys()"
   ]
  },
  {
   "cell_type": "code",
   "execution_count": 39,
   "metadata": {},
   "outputs": [
    {
     "data": {
      "text/plain": [
       "{'n_estimators': 100}"
      ]
     },
     "execution_count": 39,
     "metadata": {},
     "output_type": "execute_result"
    }
   ],
   "source": [
    "gradient_result.best_params_"
   ]
  },
  {
   "cell_type": "code",
   "execution_count": 29,
   "metadata": {},
   "outputs": [
    {
     "name": "stdout",
     "output_type": "stream",
     "text": [
      "Fitting 5 folds for each of 4 candidates, totalling 20 fits\n"
     ]
    },
    {
     "data": {
      "text/plain": [
       "0.8651466632016387"
      ]
     },
     "execution_count": 29,
     "metadata": {},
     "output_type": "execute_result"
    }
   ],
   "source": [
    "gradient_result.fit(X_train, y_train)\n",
    "res_train = gradient_result.best_score_\n",
    "res_train"
   ]
  },
  {
   "cell_type": "code",
   "execution_count": 30,
   "metadata": {},
   "outputs": [
    {
     "name": "stdout",
     "output_type": "stream",
     "text": [
      "Fitting 5 folds for each of 4 candidates, totalling 20 fits\n"
     ]
    },
    {
     "data": {
      "text/plain": [
       "0.7217195407141672"
      ]
     },
     "execution_count": 30,
     "metadata": {},
     "output_type": "execute_result"
    }
   ],
   "source": [
    "gradient_result.fit(X_test, y_test)\n",
    "res_test = gradient_result.best_score_\n",
    "res_test"
   ]
  },
  {
   "cell_type": "markdown",
   "metadata": {},
   "source": [
    "### Algoritmo 3"
   ]
  },
  {
   "cell_type": "code",
   "execution_count": 31,
   "metadata": {},
   "outputs": [],
   "source": [
    "from sklearn.model_selection import GridSearchCV\n",
    "\n",
    "knn = KNeighborsRegressor()\n",
    "\n",
    "param = {'n_neighbors': [1, 10, 100, 1000]}\n",
    "knn_result = GridSearchCV(estimator = knn, param_grid = param, cv = 5, verbose=2, n_jobs = 4)"
   ]
  },
  {
   "cell_type": "code",
   "execution_count": 36,
   "metadata": {},
   "outputs": [
    {
     "data": {
      "text/plain": [
       "dict_keys(['algorithm', 'leaf_size', 'metric', 'metric_params', 'n_jobs', 'n_neighbors', 'p', 'weights'])"
      ]
     },
     "execution_count": 36,
     "metadata": {},
     "output_type": "execute_result"
    }
   ],
   "source": [
    "knn.get_params().keys()"
   ]
  },
  {
   "cell_type": "code",
   "execution_count": 38,
   "metadata": {},
   "outputs": [
    {
     "data": {
      "text/plain": [
       "{'n_neighbors': 1}"
      ]
     },
     "execution_count": 38,
     "metadata": {},
     "output_type": "execute_result"
    }
   ],
   "source": [
    "knn_result.best_params_"
   ]
  },
  {
   "cell_type": "code",
   "execution_count": 33,
   "metadata": {},
   "outputs": [
    {
     "name": "stdout",
     "output_type": "stream",
     "text": [
      "Fitting 5 folds for each of 4 candidates, totalling 20 fits\n"
     ]
    },
    {
     "name": "stderr",
     "output_type": "stream",
     "text": [
      "/Volumes/Arquivos/Projetos/jupyter/notebook/lib/python3.9/site-packages/sklearn/model_selection/_validation.py:696: UserWarning: Scoring failed. The score on this train-test partition for these parameters will be set to nan. Details: \n",
      "Traceback (most recent call last):\n",
      "  File \"/Volumes/Arquivos/Projetos/jupyter/notebook/lib/python3.9/site-packages/sklearn/model_selection/_validation.py\", line 687, in _score\n",
      "    scores = scorer(estimator, X_test, y_test)\n",
      "  File \"/Volumes/Arquivos/Projetos/jupyter/notebook/lib/python3.9/site-packages/sklearn/metrics/_scorer.py\", line 397, in _passthrough_scorer\n",
      "    return estimator.score(*args, **kwargs)\n",
      "  File \"/Volumes/Arquivos/Projetos/jupyter/notebook/lib/python3.9/site-packages/sklearn/base.py\", line 553, in score\n",
      "    y_pred = self.predict(X)\n",
      "  File \"/Volumes/Arquivos/Projetos/jupyter/notebook/lib/python3.9/site-packages/sklearn/neighbors/_regression.py\", line 208, in predict\n",
      "    neigh_dist, neigh_ind = self.kneighbors(X)\n",
      "  File \"/Volumes/Arquivos/Projetos/jupyter/notebook/lib/python3.9/site-packages/sklearn/neighbors/_base.py\", line 680, in kneighbors\n",
      "    raise ValueError(\n",
      "ValueError: Expected n_neighbors <= n_samples,  but n_samples = 128, n_neighbors = 1000\n",
      "\n",
      "  warnings.warn(\n",
      "/Volumes/Arquivos/Projetos/jupyter/notebook/lib/python3.9/site-packages/sklearn/model_selection/_validation.py:696: UserWarning: Scoring failed. The score on this train-test partition for these parameters will be set to nan. Details: \n",
      "Traceback (most recent call last):\n",
      "  File \"/Volumes/Arquivos/Projetos/jupyter/notebook/lib/python3.9/site-packages/sklearn/model_selection/_validation.py\", line 687, in _score\n",
      "    scores = scorer(estimator, X_test, y_test)\n",
      "  File \"/Volumes/Arquivos/Projetos/jupyter/notebook/lib/python3.9/site-packages/sklearn/metrics/_scorer.py\", line 397, in _passthrough_scorer\n",
      "    return estimator.score(*args, **kwargs)\n",
      "  File \"/Volumes/Arquivos/Projetos/jupyter/notebook/lib/python3.9/site-packages/sklearn/base.py\", line 553, in score\n",
      "    y_pred = self.predict(X)\n",
      "  File \"/Volumes/Arquivos/Projetos/jupyter/notebook/lib/python3.9/site-packages/sklearn/neighbors/_regression.py\", line 208, in predict\n",
      "    neigh_dist, neigh_ind = self.kneighbors(X)\n",
      "  File \"/Volumes/Arquivos/Projetos/jupyter/notebook/lib/python3.9/site-packages/sklearn/neighbors/_base.py\", line 680, in kneighbors\n",
      "    raise ValueError(\n",
      "ValueError: Expected n_neighbors <= n_samples,  but n_samples = 128, n_neighbors = 1000\n",
      "\n",
      "  warnings.warn(\n",
      "/Volumes/Arquivos/Projetos/jupyter/notebook/lib/python3.9/site-packages/sklearn/model_selection/_validation.py:696: UserWarning: Scoring failed. The score on this train-test partition for these parameters will be set to nan. Details: \n",
      "Traceback (most recent call last):\n",
      "  File \"/Volumes/Arquivos/Projetos/jupyter/notebook/lib/python3.9/site-packages/sklearn/model_selection/_validation.py\", line 687, in _score\n",
      "    scores = scorer(estimator, X_test, y_test)\n",
      "  File \"/Volumes/Arquivos/Projetos/jupyter/notebook/lib/python3.9/site-packages/sklearn/metrics/_scorer.py\", line 397, in _passthrough_scorer\n",
      "    return estimator.score(*args, **kwargs)\n",
      "  File \"/Volumes/Arquivos/Projetos/jupyter/notebook/lib/python3.9/site-packages/sklearn/base.py\", line 553, in score\n",
      "    y_pred = self.predict(X)\n",
      "  File \"/Volumes/Arquivos/Projetos/jupyter/notebook/lib/python3.9/site-packages/sklearn/neighbors/_regression.py\", line 208, in predict\n",
      "    neigh_dist, neigh_ind = self.kneighbors(X)\n",
      "  File \"/Volumes/Arquivos/Projetos/jupyter/notebook/lib/python3.9/site-packages/sklearn/neighbors/_base.py\", line 680, in kneighbors\n",
      "    raise ValueError(\n",
      "ValueError: Expected n_neighbors <= n_samples,  but n_samples = 128, n_neighbors = 1000\n",
      "\n",
      "  warnings.warn(\n",
      "/Volumes/Arquivos/Projetos/jupyter/notebook/lib/python3.9/site-packages/sklearn/model_selection/_validation.py:696: UserWarning: Scoring failed. The score on this train-test partition for these parameters will be set to nan. Details: \n",
      "Traceback (most recent call last):\n",
      "  File \"/Volumes/Arquivos/Projetos/jupyter/notebook/lib/python3.9/site-packages/sklearn/model_selection/_validation.py\", line 687, in _score\n",
      "    scores = scorer(estimator, X_test, y_test)\n",
      "  File \"/Volumes/Arquivos/Projetos/jupyter/notebook/lib/python3.9/site-packages/sklearn/metrics/_scorer.py\", line 397, in _passthrough_scorer\n",
      "    return estimator.score(*args, **kwargs)\n",
      "  File \"/Volumes/Arquivos/Projetos/jupyter/notebook/lib/python3.9/site-packages/sklearn/base.py\", line 553, in score\n",
      "    y_pred = self.predict(X)\n",
      "  File \"/Volumes/Arquivos/Projetos/jupyter/notebook/lib/python3.9/site-packages/sklearn/neighbors/_regression.py\", line 208, in predict\n",
      "    neigh_dist, neigh_ind = self.kneighbors(X)\n",
      "  File \"/Volumes/Arquivos/Projetos/jupyter/notebook/lib/python3.9/site-packages/sklearn/neighbors/_base.py\", line 680, in kneighbors\n",
      "    raise ValueError(\n",
      "ValueError: Expected n_neighbors <= n_samples,  but n_samples = 128, n_neighbors = 1000\n",
      "\n",
      "  warnings.warn(\n",
      "/Volumes/Arquivos/Projetos/jupyter/notebook/lib/python3.9/site-packages/sklearn/model_selection/_validation.py:696: UserWarning: Scoring failed. The score on this train-test partition for these parameters will be set to nan. Details: \n",
      "Traceback (most recent call last):\n",
      "  File \"/Volumes/Arquivos/Projetos/jupyter/notebook/lib/python3.9/site-packages/sklearn/model_selection/_validation.py\", line 687, in _score\n",
      "    scores = scorer(estimator, X_test, y_test)\n",
      "  File \"/Volumes/Arquivos/Projetos/jupyter/notebook/lib/python3.9/site-packages/sklearn/metrics/_scorer.py\", line 397, in _passthrough_scorer\n",
      "    return estimator.score(*args, **kwargs)\n",
      "  File \"/Volumes/Arquivos/Projetos/jupyter/notebook/lib/python3.9/site-packages/sklearn/base.py\", line 553, in score\n",
      "    y_pred = self.predict(X)\n",
      "  File \"/Volumes/Arquivos/Projetos/jupyter/notebook/lib/python3.9/site-packages/sklearn/neighbors/_regression.py\", line 208, in predict\n",
      "    neigh_dist, neigh_ind = self.kneighbors(X)\n",
      "  File \"/Volumes/Arquivos/Projetos/jupyter/notebook/lib/python3.9/site-packages/sklearn/neighbors/_base.py\", line 680, in kneighbors\n",
      "    raise ValueError(\n",
      "ValueError: Expected n_neighbors <= n_samples,  but n_samples = 128, n_neighbors = 1000\n",
      "\n",
      "  warnings.warn(\n",
      "/Volumes/Arquivos/Projetos/jupyter/notebook/lib/python3.9/site-packages/sklearn/model_selection/_search.py:922: UserWarning: One or more of the test scores are non-finite: [0.63321851 0.75156834 0.29905957        nan]\n",
      "  warnings.warn(\n"
     ]
    },
    {
     "data": {
      "text/plain": [
       "0.7217195407141672"
      ]
     },
     "execution_count": 33,
     "metadata": {},
     "output_type": "execute_result"
    }
   ],
   "source": [
    "knn_result.fit(X_train, y_train)\n",
    "res_train_knn = gradient_result.best_score_\n",
    "res_train_knn"
   ]
  },
  {
   "cell_type": "code",
   "execution_count": 34,
   "metadata": {},
   "outputs": [
    {
     "name": "stdout",
     "output_type": "stream",
     "text": [
      "Fitting 5 folds for each of 4 candidates, totalling 20 fits\n"
     ]
    },
    {
     "name": "stderr",
     "output_type": "stream",
     "text": [
      "/Volumes/Arquivos/Projetos/jupyter/notebook/lib/python3.9/site-packages/sklearn/model_selection/_validation.py:696: UserWarning: Scoring failed. The score on this train-test partition for these parameters will be set to nan. Details: \n",
      "Traceback (most recent call last):\n",
      "  File \"/Volumes/Arquivos/Projetos/jupyter/notebook/lib/python3.9/site-packages/sklearn/model_selection/_validation.py\", line 687, in _score\n",
      "    scores = scorer(estimator, X_test, y_test)\n",
      "  File \"/Volumes/Arquivos/Projetos/jupyter/notebook/lib/python3.9/site-packages/sklearn/metrics/_scorer.py\", line 397, in _passthrough_scorer\n",
      "    return estimator.score(*args, **kwargs)\n",
      "  File \"/Volumes/Arquivos/Projetos/jupyter/notebook/lib/python3.9/site-packages/sklearn/base.py\", line 553, in score\n",
      "    y_pred = self.predict(X)\n",
      "  File \"/Volumes/Arquivos/Projetos/jupyter/notebook/lib/python3.9/site-packages/sklearn/neighbors/_regression.py\", line 208, in predict\n",
      "    neigh_dist, neigh_ind = self.kneighbors(X)\n",
      "  File \"/Volumes/Arquivos/Projetos/jupyter/notebook/lib/python3.9/site-packages/sklearn/neighbors/_base.py\", line 680, in kneighbors\n",
      "    raise ValueError(\n",
      "ValueError: Expected n_neighbors <= n_samples,  but n_samples = 32, n_neighbors = 100\n",
      "\n",
      "  warnings.warn(\n",
      "/Volumes/Arquivos/Projetos/jupyter/notebook/lib/python3.9/site-packages/sklearn/model_selection/_validation.py:696: UserWarning: Scoring failed. The score on this train-test partition for these parameters will be set to nan. Details: \n",
      "Traceback (most recent call last):\n",
      "  File \"/Volumes/Arquivos/Projetos/jupyter/notebook/lib/python3.9/site-packages/sklearn/model_selection/_validation.py\", line 687, in _score\n",
      "    scores = scorer(estimator, X_test, y_test)\n",
      "  File \"/Volumes/Arquivos/Projetos/jupyter/notebook/lib/python3.9/site-packages/sklearn/metrics/_scorer.py\", line 397, in _passthrough_scorer\n",
      "    return estimator.score(*args, **kwargs)\n",
      "  File \"/Volumes/Arquivos/Projetos/jupyter/notebook/lib/python3.9/site-packages/sklearn/base.py\", line 553, in score\n",
      "    y_pred = self.predict(X)\n",
      "  File \"/Volumes/Arquivos/Projetos/jupyter/notebook/lib/python3.9/site-packages/sklearn/neighbors/_regression.py\", line 208, in predict\n",
      "    neigh_dist, neigh_ind = self.kneighbors(X)\n",
      "  File \"/Volumes/Arquivos/Projetos/jupyter/notebook/lib/python3.9/site-packages/sklearn/neighbors/_base.py\", line 680, in kneighbors\n",
      "    raise ValueError(\n",
      "ValueError: Expected n_neighbors <= n_samples,  but n_samples = 33, n_neighbors = 100\n",
      "\n",
      "  warnings.warn(\n",
      "/Volumes/Arquivos/Projetos/jupyter/notebook/lib/python3.9/site-packages/sklearn/model_selection/_validation.py:696: UserWarning: Scoring failed. The score on this train-test partition for these parameters will be set to nan. Details: \n",
      "Traceback (most recent call last):\n",
      "  File \"/Volumes/Arquivos/Projetos/jupyter/notebook/lib/python3.9/site-packages/sklearn/model_selection/_validation.py\", line 687, in _score\n",
      "    scores = scorer(estimator, X_test, y_test)\n",
      "  File \"/Volumes/Arquivos/Projetos/jupyter/notebook/lib/python3.9/site-packages/sklearn/metrics/_scorer.py\", line 397, in _passthrough_scorer\n",
      "    return estimator.score(*args, **kwargs)\n",
      "  File \"/Volumes/Arquivos/Projetos/jupyter/notebook/lib/python3.9/site-packages/sklearn/base.py\", line 553, in score\n",
      "    y_pred = self.predict(X)\n",
      "  File \"/Volumes/Arquivos/Projetos/jupyter/notebook/lib/python3.9/site-packages/sklearn/neighbors/_regression.py\", line 208, in predict\n",
      "    neigh_dist, neigh_ind = self.kneighbors(X)\n",
      "  File \"/Volumes/Arquivos/Projetos/jupyter/notebook/lib/python3.9/site-packages/sklearn/neighbors/_base.py\", line 680, in kneighbors\n",
      "    raise ValueError(\n",
      "ValueError: Expected n_neighbors <= n_samples,  but n_samples = 33, n_neighbors = 100\n",
      "\n",
      "  warnings.warn(\n",
      "/Volumes/Arquivos/Projetos/jupyter/notebook/lib/python3.9/site-packages/sklearn/model_selection/_validation.py:696: UserWarning: Scoring failed. The score on this train-test partition for these parameters will be set to nan. Details: \n",
      "Traceback (most recent call last):\n",
      "  File \"/Volumes/Arquivos/Projetos/jupyter/notebook/lib/python3.9/site-packages/sklearn/model_selection/_validation.py\", line 687, in _score\n",
      "    scores = scorer(estimator, X_test, y_test)\n",
      "  File \"/Volumes/Arquivos/Projetos/jupyter/notebook/lib/python3.9/site-packages/sklearn/metrics/_scorer.py\", line 397, in _passthrough_scorer\n",
      "    return estimator.score(*args, **kwargs)\n",
      "  File \"/Volumes/Arquivos/Projetos/jupyter/notebook/lib/python3.9/site-packages/sklearn/base.py\", line 553, in score\n",
      "    y_pred = self.predict(X)\n",
      "  File \"/Volumes/Arquivos/Projetos/jupyter/notebook/lib/python3.9/site-packages/sklearn/neighbors/_regression.py\", line 208, in predict\n",
      "    neigh_dist, neigh_ind = self.kneighbors(X)\n",
      "  File \"/Volumes/Arquivos/Projetos/jupyter/notebook/lib/python3.9/site-packages/sklearn/neighbors/_base.py\", line 680, in kneighbors\n",
      "    raise ValueError(\n",
      "ValueError: Expected n_neighbors <= n_samples,  but n_samples = 33, n_neighbors = 100\n",
      "\n",
      "  warnings.warn(\n",
      "/Volumes/Arquivos/Projetos/jupyter/notebook/lib/python3.9/site-packages/sklearn/model_selection/_validation.py:696: UserWarning: Scoring failed. The score on this train-test partition for these parameters will be set to nan. Details: \n",
      "Traceback (most recent call last):\n",
      "  File \"/Volumes/Arquivos/Projetos/jupyter/notebook/lib/python3.9/site-packages/sklearn/model_selection/_validation.py\", line 687, in _score\n",
      "    scores = scorer(estimator, X_test, y_test)\n",
      "  File \"/Volumes/Arquivos/Projetos/jupyter/notebook/lib/python3.9/site-packages/sklearn/metrics/_scorer.py\", line 397, in _passthrough_scorer\n",
      "    return estimator.score(*args, **kwargs)\n",
      "  File \"/Volumes/Arquivos/Projetos/jupyter/notebook/lib/python3.9/site-packages/sklearn/base.py\", line 553, in score\n",
      "    y_pred = self.predict(X)\n",
      "  File \"/Volumes/Arquivos/Projetos/jupyter/notebook/lib/python3.9/site-packages/sklearn/neighbors/_regression.py\", line 208, in predict\n",
      "    neigh_dist, neigh_ind = self.kneighbors(X)\n",
      "  File \"/Volumes/Arquivos/Projetos/jupyter/notebook/lib/python3.9/site-packages/sklearn/neighbors/_base.py\", line 680, in kneighbors\n",
      "    raise ValueError(\n",
      "ValueError: Expected n_neighbors <= n_samples,  but n_samples = 33, n_neighbors = 100\n",
      "\n",
      "  warnings.warn(\n",
      "/Volumes/Arquivos/Projetos/jupyter/notebook/lib/python3.9/site-packages/sklearn/model_selection/_validation.py:696: UserWarning: Scoring failed. The score on this train-test partition for these parameters will be set to nan. Details: \n",
      "Traceback (most recent call last):\n",
      "  File \"/Volumes/Arquivos/Projetos/jupyter/notebook/lib/python3.9/site-packages/sklearn/model_selection/_validation.py\", line 687, in _score\n",
      "    scores = scorer(estimator, X_test, y_test)\n",
      "  File \"/Volumes/Arquivos/Projetos/jupyter/notebook/lib/python3.9/site-packages/sklearn/metrics/_scorer.py\", line 397, in _passthrough_scorer\n",
      "    return estimator.score(*args, **kwargs)\n",
      "  File \"/Volumes/Arquivos/Projetos/jupyter/notebook/lib/python3.9/site-packages/sklearn/base.py\", line 553, in score\n",
      "    y_pred = self.predict(X)\n",
      "  File \"/Volumes/Arquivos/Projetos/jupyter/notebook/lib/python3.9/site-packages/sklearn/neighbors/_regression.py\", line 208, in predict\n",
      "    neigh_dist, neigh_ind = self.kneighbors(X)\n",
      "  File \"/Volumes/Arquivos/Projetos/jupyter/notebook/lib/python3.9/site-packages/sklearn/neighbors/_base.py\", line 680, in kneighbors\n",
      "    raise ValueError(\n",
      "ValueError: Expected n_neighbors <= n_samples,  but n_samples = 32, n_neighbors = 1000\n",
      "\n",
      "  warnings.warn(\n",
      "/Volumes/Arquivos/Projetos/jupyter/notebook/lib/python3.9/site-packages/sklearn/model_selection/_validation.py:696: UserWarning: Scoring failed. The score on this train-test partition for these parameters will be set to nan. Details: \n",
      "Traceback (most recent call last):\n",
      "  File \"/Volumes/Arquivos/Projetos/jupyter/notebook/lib/python3.9/site-packages/sklearn/model_selection/_validation.py\", line 687, in _score\n",
      "    scores = scorer(estimator, X_test, y_test)\n",
      "  File \"/Volumes/Arquivos/Projetos/jupyter/notebook/lib/python3.9/site-packages/sklearn/metrics/_scorer.py\", line 397, in _passthrough_scorer\n",
      "    return estimator.score(*args, **kwargs)\n",
      "  File \"/Volumes/Arquivos/Projetos/jupyter/notebook/lib/python3.9/site-packages/sklearn/base.py\", line 553, in score\n",
      "    y_pred = self.predict(X)\n",
      "  File \"/Volumes/Arquivos/Projetos/jupyter/notebook/lib/python3.9/site-packages/sklearn/neighbors/_regression.py\", line 208, in predict\n",
      "    neigh_dist, neigh_ind = self.kneighbors(X)\n",
      "  File \"/Volumes/Arquivos/Projetos/jupyter/notebook/lib/python3.9/site-packages/sklearn/neighbors/_base.py\", line 680, in kneighbors\n",
      "    raise ValueError(\n",
      "ValueError: Expected n_neighbors <= n_samples,  but n_samples = 33, n_neighbors = 1000\n",
      "\n",
      "  warnings.warn(\n",
      "/Volumes/Arquivos/Projetos/jupyter/notebook/lib/python3.9/site-packages/sklearn/model_selection/_validation.py:696: UserWarning: Scoring failed. The score on this train-test partition for these parameters will be set to nan. Details: \n",
      "Traceback (most recent call last):\n",
      "  File \"/Volumes/Arquivos/Projetos/jupyter/notebook/lib/python3.9/site-packages/sklearn/model_selection/_validation.py\", line 687, in _score\n",
      "    scores = scorer(estimator, X_test, y_test)\n",
      "  File \"/Volumes/Arquivos/Projetos/jupyter/notebook/lib/python3.9/site-packages/sklearn/metrics/_scorer.py\", line 397, in _passthrough_scorer\n",
      "    return estimator.score(*args, **kwargs)\n",
      "  File \"/Volumes/Arquivos/Projetos/jupyter/notebook/lib/python3.9/site-packages/sklearn/base.py\", line 553, in score\n",
      "    y_pred = self.predict(X)\n",
      "  File \"/Volumes/Arquivos/Projetos/jupyter/notebook/lib/python3.9/site-packages/sklearn/neighbors/_regression.py\", line 208, in predict\n",
      "    neigh_dist, neigh_ind = self.kneighbors(X)\n",
      "  File \"/Volumes/Arquivos/Projetos/jupyter/notebook/lib/python3.9/site-packages/sklearn/neighbors/_base.py\", line 680, in kneighbors\n",
      "    raise ValueError(\n",
      "ValueError: Expected n_neighbors <= n_samples,  but n_samples = 33, n_neighbors = 1000\n",
      "\n",
      "  warnings.warn(\n",
      "/Volumes/Arquivos/Projetos/jupyter/notebook/lib/python3.9/site-packages/sklearn/model_selection/_validation.py:696: UserWarning: Scoring failed. The score on this train-test partition for these parameters will be set to nan. Details: \n",
      "Traceback (most recent call last):\n",
      "  File \"/Volumes/Arquivos/Projetos/jupyter/notebook/lib/python3.9/site-packages/sklearn/model_selection/_validation.py\", line 687, in _score\n",
      "    scores = scorer(estimator, X_test, y_test)\n",
      "  File \"/Volumes/Arquivos/Projetos/jupyter/notebook/lib/python3.9/site-packages/sklearn/metrics/_scorer.py\", line 397, in _passthrough_scorer\n",
      "    return estimator.score(*args, **kwargs)\n",
      "  File \"/Volumes/Arquivos/Projetos/jupyter/notebook/lib/python3.9/site-packages/sklearn/base.py\", line 553, in score\n",
      "    y_pred = self.predict(X)\n",
      "  File \"/Volumes/Arquivos/Projetos/jupyter/notebook/lib/python3.9/site-packages/sklearn/neighbors/_regression.py\", line 208, in predict\n",
      "    neigh_dist, neigh_ind = self.kneighbors(X)\n",
      "  File \"/Volumes/Arquivos/Projetos/jupyter/notebook/lib/python3.9/site-packages/sklearn/neighbors/_base.py\", line 680, in kneighbors\n",
      "    raise ValueError(\n",
      "ValueError: Expected n_neighbors <= n_samples,  but n_samples = 33, n_neighbors = 1000\n",
      "\n",
      "  warnings.warn(\n",
      "/Volumes/Arquivos/Projetos/jupyter/notebook/lib/python3.9/site-packages/sklearn/model_selection/_validation.py:696: UserWarning: Scoring failed. The score on this train-test partition for these parameters will be set to nan. Details: \n",
      "Traceback (most recent call last):\n",
      "  File \"/Volumes/Arquivos/Projetos/jupyter/notebook/lib/python3.9/site-packages/sklearn/model_selection/_validation.py\", line 687, in _score\n",
      "    scores = scorer(estimator, X_test, y_test)\n",
      "  File \"/Volumes/Arquivos/Projetos/jupyter/notebook/lib/python3.9/site-packages/sklearn/metrics/_scorer.py\", line 397, in _passthrough_scorer\n",
      "    return estimator.score(*args, **kwargs)\n",
      "  File \"/Volumes/Arquivos/Projetos/jupyter/notebook/lib/python3.9/site-packages/sklearn/base.py\", line 553, in score\n",
      "    y_pred = self.predict(X)\n",
      "  File \"/Volumes/Arquivos/Projetos/jupyter/notebook/lib/python3.9/site-packages/sklearn/neighbors/_regression.py\", line 208, in predict\n",
      "    neigh_dist, neigh_ind = self.kneighbors(X)\n",
      "  File \"/Volumes/Arquivos/Projetos/jupyter/notebook/lib/python3.9/site-packages/sklearn/neighbors/_base.py\", line 680, in kneighbors\n",
      "    raise ValueError(\n",
      "ValueError: Expected n_neighbors <= n_samples,  but n_samples = 33, n_neighbors = 1000\n",
      "\n",
      "  warnings.warn(\n",
      "/Volumes/Arquivos/Projetos/jupyter/notebook/lib/python3.9/site-packages/sklearn/model_selection/_search.py:922: UserWarning: One or more of the test scores are non-finite: [0.72881341 0.03654594        nan        nan]\n",
      "  warnings.warn(\n"
     ]
    },
    {
     "data": {
      "text/plain": [
       "0.728813409495956"
      ]
     },
     "execution_count": 34,
     "metadata": {},
     "output_type": "execute_result"
    },
    {
     "name": "stdout",
     "output_type": "stream",
     "text": [
      "[CV] END .....................................n_estimators=1; total time=   0.0s\n",
      "[CV] END ....................................n_estimators=10; total time=   0.0s\n",
      "[CV] END ...................................n_estimators=100; total time=   0.0s\n",
      "[CV] END ...................................n_estimators=100; total time=   0.0s\n",
      "[CV] END ..................................n_estimators=1000; total time=   0.2s\n",
      "[CV] END ....................................n_estimators=10; total time=   0.0s\n",
      "[CV] END ....................................n_estimators=10; total time=   0.0s\n",
      "[CV] END ..................................n_estimators=1000; total time=   0.1s\n",
      "[CV] END ..................................n_estimators=1000; total time=   0.1s\n",
      "[CV] END ......................................n_neighbors=1; total time=   0.0s\n",
      "[CV] END .....................................n_neighbors=10; total time=   0.0s\n",
      "[CV] END .....................................n_neighbors=10; total time=   0.0s\n",
      "[CV] END ...................................n_neighbors=1000; total time=   0.0s\n",
      "[CV] END ......................................n_neighbors=1; total time=   0.0s\n",
      "[CV] END ......................................n_neighbors=1; total time=   0.0s\n",
      "[CV] END .....................................n_neighbors=10; total time=   0.0s\n",
      "[CV] END .....................................n_neighbors=10; total time=   0.0s\n",
      "[CV] END .....................................n_neighbors=10; total time=   0.0s\n",
      "[CV] END .....................................n_neighbors=10; total time=   0.0s\n",
      "[CV] END ....................................n_neighbors=100; total time=   0.0s\n",
      "[CV] END ...................................n_neighbors=1000; total time=   0.0s\n",
      "[CV] END ...................................n_neighbors=1000; total time=   0.0s\n",
      "[CV] END .....................................n_estimators=1; total time=   0.0s\n",
      "[CV] END .....................................n_estimators=1; total time=   0.0s\n",
      "[CV] END ....................................n_estimators=10; total time=   0.0s\n",
      "[CV] END ...................................n_estimators=100; total time=   0.0s\n",
      "[CV] END ..................................n_estimators=1000; total time=   0.2s\n",
      "[CV] END .....................................n_estimators=1; total time=   0.0s\n",
      "[CV] END .....................................n_estimators=1; total time=   0.0s\n",
      "[CV] END .....................................n_estimators=1; total time=   0.0s\n",
      "[CV] END ....................................n_estimators=10; total time=   0.0s\n",
      "[CV] END ...................................n_estimators=100; total time=   0.0s\n",
      "[CV] END ...................................n_estimators=100; total time=   0.0s\n",
      "[CV] END ..................................n_estimators=1000; total time=   0.1s\n",
      "[CV] END ......................................n_neighbors=1; total time=   0.0s\n",
      "[CV] END .....................................n_neighbors=10; total time=   0.0s\n",
      "[CV] END ....................................n_neighbors=100; total time=   0.0s\n",
      "[CV] END ....................................n_neighbors=100; total time=   0.0s\n",
      "[CV] END ...................................n_neighbors=1000; total time=   0.0s\n",
      "[CV] END ...................................n_neighbors=1000; total time=   0.0s\n",
      "[CV] END ......................................n_neighbors=1; total time=   0.0s\n",
      "[CV] END .....................................n_estimators=1; total time=   0.0s\n",
      "[CV] END ....................................n_estimators=10; total time=   0.0s\n",
      "[CV] END ....................................n_estimators=10; total time=   0.0s\n",
      "[CV] END ...................................n_estimators=100; total time=   0.0s\n",
      "[CV] END ..................................n_estimators=1000; total time=   0.2s\n",
      "[CV] END .....................................n_estimators=1; total time=   0.0s\n",
      "[CV] END .....................................n_estimators=1; total time=   0.0s\n",
      "[CV] END ....................................n_estimators=10; total time=   0.0s\n",
      "[CV] END ...................................n_estimators=100; total time=   0.0s\n",
      "[CV] END ..................................n_estimators=1000; total time=   0.1s\n",
      "[CV] END ......................................n_neighbors=1; total time=   0.0s\n",
      "[CV] END ......................................n_neighbors=1; total time=   0.0s\n",
      "[CV] END .....................................n_neighbors=10; total time=   0.0s\n",
      "[CV] END ....................................n_neighbors=100; total time=   0.0s\n",
      "[CV] END ....................................n_neighbors=100; total time=   0.0s\n",
      "[CV] END ...................................n_neighbors=1000; total time=   0.0s\n",
      "[CV] END ......................................n_neighbors=1; total time=   0.0s\n",
      "[CV] END .....................................n_neighbors=10; total time=   0.0s\n",
      "[CV] END ....................................n_neighbors=100; total time=   0.0s\n",
      "[CV] END ....................................n_neighbors=100; total time=   0.0s\n",
      "[CV] END ....................................n_neighbors=100; total time=   0.0s\n",
      "[CV] END ....................................n_neighbors=100; total time=   0.0s\n",
      "[CV] END ...................................n_neighbors=1000; total time=   0.0s\n",
      "[CV] END ...................................n_neighbors=1000; total time=   0.0s\n",
      "[CV] END .....................................n_estimators=1; total time=   0.0s\n",
      "[CV] END ....................................n_estimators=10; total time=   0.0s\n",
      "[CV] END ...................................n_estimators=100; total time=   0.0s\n",
      "[CV] END ..................................n_estimators=1000; total time=   0.2s\n",
      "[CV] END ..................................n_estimators=1000; total time=   0.2s\n",
      "[CV] END ....................................n_estimators=10; total time=   0.0s\n",
      "[CV] END ...................................n_estimators=100; total time=   0.0s\n",
      "[CV] END ...................................n_estimators=100; total time=   0.0s\n",
      "[CV] END ..................................n_estimators=1000; total time=   0.1s\n",
      "[CV] END ......................................n_neighbors=1; total time=   0.0s\n",
      "[CV] END .....................................n_neighbors=10; total time=   0.0s\n",
      "[CV] END ....................................n_neighbors=100; total time=   0.0s\n",
      "[CV] END ...................................n_neighbors=1000; total time=   0.0s\n",
      "[CV] END ......................................n_neighbors=1; total time=   0.0s\n",
      "[CV] END ...................................n_neighbors=1000; total time=   0.0s\n"
     ]
    }
   ],
   "source": [
    "knn_result.fit(X_test, y_test)\n",
    "res_test_knn = knn_result.best_score_\n",
    "res_test_knn"
   ]
  },
  {
   "cell_type": "markdown",
   "metadata": {},
   "source": [
    "Sumarize na tabela abaixo os indicadores para cada um dos preditores e suas respectivas pontuações para os conjuntos de dados de treino e de testes"
   ]
  },
  {
   "cell_type": "markdown",
   "metadata": {},
   "source": [
    "**Resposta:**\n",
    "\n",
    "|                     | algoritmo1 | algoritmo2 | algoritmo3 |\n",
    "|:---------------------|:------------------:|:-----------------------------:|:-----------------:|\n",
    "| treino |      X           |      0.8651                       |   0.7217              |\n",
    "| teste  |      X            |      0.7217                       |   0.7288              |\n"
   ]
  },
  {
   "cell_type": "markdown",
   "metadata": {},
   "source": [
    "**Pergunta:** Qual dos algoritmos obteve os melhores resultados? Quais caracaterísticas deste algoritmo podem ajudar a justificar tal resultado?\n",
    "\n",
    "**Resposta:** Por conta de falhar no processamento, o algoritmo 2 foi o único que apresentou informações consistentes para análise, após descorbrir os melhores parâmetros utilizamos no nosso grid para tunar nossa resultados do nosso algoritmo e percebemos que não houve melhoria de fato, já no algoritmo 3 houve sim uma melhora porém não muito significante."
   ]
  },
  {
   "cell_type": "markdown",
   "metadata": {},
   "source": [
    "### __(BONUS: 1 ponto extra.)__ Implementação do algoritmo otimizado\n",
    "\n",
    "Configure o modelo selecionado com os parâmetros otimizados obtidos anteriormente."
   ]
  },
  {
   "cell_type": "code",
   "execution_count": 26,
   "metadata": {
    "collapsed": true
   },
   "outputs": [],
   "source": [
    "#Seu Código aqui...\n",
    "\n"
   ]
  },
  {
   "cell_type": "markdown",
   "metadata": {},
   "source": [
    "### Modelo de produção: Teste com novos dados\n",
    "\n",
    "Utilize 3 exemplos criados por você mesmo para obter um valor de venda de veículo. Defina o teste para um resultado baixo, médio e alto do preço do carro."
   ]
  },
  {
   "cell_type": "code",
   "execution_count": 29,
   "metadata": {
    "collapsed": true
   },
   "outputs": [],
   "source": [
    "#Seu Código aqui...\n",
    "\n"
   ]
  },
  {
   "cell_type": "markdown",
   "metadata": {},
   "source": [
    "**Pergunta:** Qual foi o resultado obtido? O resultado está coerente com o esperado?\n",
    "\n",
    "**Resposta:**"
   ]
  },
  {
   "cell_type": "markdown",
   "metadata": {},
   "source": [
    "## 6. Conclusões finais\n",
    "\n",
    "Ufa!!... Chegamos ao final deste projeto. Parabéns! De forma simplificada e completa passamos por todas as etapas de aprendizado de maquina. Outras etapas podem ser adicionadas no tratamento dos dados e desenvolvimento do modelo."
   ]
  },
  {
   "cell_type": "markdown",
   "metadata": {},
   "source": [
    "**Pergunta:**: O modelo desenvolvido obteve um resultado satisfatório? Justifique:\n",
    "\n",
    "**Resposta**: "
   ]
  },
  {
   "cell_type": "markdown",
   "metadata": {
    "collapsed": true
   },
   "source": [
    "**Pergunta:**: O que faria diferente para melhorar resultado obtido? Justifique:\n",
    "\n",
    "**Resposta**:"
   ]
  },
  {
   "cell_type": "markdown",
   "metadata": {},
   "source": [
    "**Pergunta:**: As etapas de desenvolvimento se aplicam para um problema de classificação? Justifique:\n",
    "\n",
    "**Resposta**:"
   ]
  }
 ],
 "metadata": {
  "kernelspec": {
   "display_name": "Python 3 (ipykernel)",
   "language": "python",
   "name": "python3"
  },
  "language_info": {
   "codemirror_mode": {
    "name": "ipython",
    "version": 3
   },
   "file_extension": ".py",
   "mimetype": "text/x-python",
   "name": "python",
   "nbconvert_exporter": "python",
   "pygments_lexer": "ipython3",
   "version": "3.9.7"
  }
 },
 "nbformat": 4,
 "nbformat_minor": 2
}
